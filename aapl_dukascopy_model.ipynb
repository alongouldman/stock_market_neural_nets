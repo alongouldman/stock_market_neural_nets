{
 "cells": [
  {
   "cell_type": "markdown",
   "metadata": {},
   "source": [
    "# predict AAPL 5 minute rate of change, <br/> using 3 year dukascopy data"
   ]
  },
  {
   "cell_type": "code",
   "execution_count": 1,
   "metadata": {},
   "outputs": [],
   "source": [
    "# imports\n",
    "import common\n",
    "import numpy as np\n",
    "import pandas as pd\n",
    "import seaborn as sns\n",
    "\n",
    "from sklearn.metrics import mean_squared_error\n",
    "from sklearn.ensemble import RandomForestRegressor\n",
    "from sklearn.neural_network import MLPRegressor"
   ]
  },
  {
   "cell_type": "code",
   "execution_count": 2,
   "metadata": {},
   "outputs": [],
   "source": [
    "# inputs\n",
    "PREDICTION_SIZE = 5\n",
    "aapl_file_path = r'C:\\Users\\asaf\\Desktop\\DS_workshop-project\\stock_market_neural_nets\\data\\relevant\\dukascopy\\BID\\AAPL.csv'"
   ]
  },
  {
   "cell_type": "markdown",
   "metadata": {},
   "source": [
    "## 1) get aaple data"
   ]
  },
  {
   "cell_type": "code",
   "execution_count": 3,
   "metadata": {},
   "outputs": [],
   "source": [
    "df = pd.read_csv(aapl_file_path)\n",
    "\n",
    "# rename columns\n",
    "new_cols_map = {col: col.lower() for col in df}\n",
    "new_cols_map['Local time'] = \"datetime\"\n",
    "df.rename(columns=new_cols_map, inplace=True)\n",
    "\n",
    "# convert datetime type (string to datetime)\n",
    "df['datetime'] = df['datetime'].str.replace(r\"\\:00\\.000 GMT\\+0\\d00\",\"\")\n",
    "df['datetime'] = pd.to_datetime(df['datetime'], format='%d.%m.%Y %H:%M')"
   ]
  },
  {
   "cell_type": "markdown",
   "metadata": {},
   "source": [
    "to keep things stupid simple, focus on specific columns"
   ]
  },
  {
   "cell_type": "code",
   "execution_count": 4,
   "metadata": {},
   "outputs": [
    {
     "data": {
      "text/html": [
       "<div>\n",
       "<style scoped>\n",
       "    .dataframe tbody tr th:only-of-type {\n",
       "        vertical-align: middle;\n",
       "    }\n",
       "\n",
       "    .dataframe tbody tr th {\n",
       "        vertical-align: top;\n",
       "    }\n",
       "\n",
       "    .dataframe thead th {\n",
       "        text-align: right;\n",
       "    }\n",
       "</style>\n",
       "<table border=\"1\" class=\"dataframe\">\n",
       "  <thead>\n",
       "    <tr style=\"text-align: right;\">\n",
       "      <th></th>\n",
       "      <th>datetime</th>\n",
       "      <th>close</th>\n",
       "    </tr>\n",
       "  </thead>\n",
       "  <tbody>\n",
       "    <tr>\n",
       "      <th>0</th>\n",
       "      <td>2017-01-26 00:00:00</td>\n",
       "      <td>121.864</td>\n",
       "    </tr>\n",
       "    <tr>\n",
       "      <th>1</th>\n",
       "      <td>2017-01-26 00:01:00</td>\n",
       "      <td>121.864</td>\n",
       "    </tr>\n",
       "    <tr>\n",
       "      <th>2</th>\n",
       "      <td>2017-01-26 00:02:00</td>\n",
       "      <td>121.864</td>\n",
       "    </tr>\n",
       "    <tr>\n",
       "      <th>3</th>\n",
       "      <td>2017-01-26 00:03:00</td>\n",
       "      <td>121.864</td>\n",
       "    </tr>\n",
       "    <tr>\n",
       "      <th>4</th>\n",
       "      <td>2017-01-26 00:04:00</td>\n",
       "      <td>121.864</td>\n",
       "    </tr>\n",
       "  </tbody>\n",
       "</table>\n",
       "</div>"
      ],
      "text/plain": [
       "             datetime    close\n",
       "0 2017-01-26 00:00:00  121.864\n",
       "1 2017-01-26 00:01:00  121.864\n",
       "2 2017-01-26 00:02:00  121.864\n",
       "3 2017-01-26 00:03:00  121.864\n",
       "4 2017-01-26 00:04:00  121.864"
      ]
     },
     "execution_count": 4,
     "metadata": {},
     "output_type": "execute_result"
    }
   ],
   "source": [
    "df = df[['datetime', 'close']]\n",
    "df.head()"
   ]
  },
  {
   "cell_type": "markdown",
   "metadata": {},
   "source": [
    "## 2) preprocessing"
   ]
  },
  {
   "cell_type": "markdown",
   "metadata": {},
   "source": [
    "first look"
   ]
  },
  {
   "cell_type": "code",
   "execution_count": 5,
   "metadata": {},
   "outputs": [
    {
     "data": {
      "text/plain": [
       "<matplotlib.axes._subplots.AxesSubplot at 0x1c603582240>"
      ]
     },
     "execution_count": 5,
     "metadata": {},
     "output_type": "execute_result"
    },
    {
     "data": {
      "image/png": "[encoded data removed]",
      "text/plain": [
       "<Figure size 432x288 with 1 Axes>"
      ]
     },
     "metadata": {
      "needs_background": "light"
     },
     "output_type": "display_data"
    }
   ],
   "source": [
    "df['close'].plot()"
   ]
  },
  {
   "cell_type": "code",
   "execution_count": 6,
   "metadata": {},
   "outputs": [
    {
     "data": {
      "text/html": [
       "<div>\n",
       "<style scoped>\n",
       "    .dataframe tbody tr th:only-of-type {\n",
       "        vertical-align: middle;\n",
       "    }\n",
       "\n",
       "    .dataframe tbody tr th {\n",
       "        vertical-align: top;\n",
       "    }\n",
       "\n",
       "    .dataframe thead th {\n",
       "        text-align: right;\n",
       "    }\n",
       "</style>\n",
       "<table border=\"1\" class=\"dataframe\">\n",
       "  <thead>\n",
       "    <tr style=\"text-align: right;\">\n",
       "      <th></th>\n",
       "      <th>close</th>\n",
       "    </tr>\n",
       "  </thead>\n",
       "  <tbody>\n",
       "    <tr>\n",
       "      <th>count</th>\n",
       "      <td>1.742520e+06</td>\n",
       "    </tr>\n",
       "    <tr>\n",
       "      <th>mean</th>\n",
       "      <td>1.961501e+02</td>\n",
       "    </tr>\n",
       "    <tr>\n",
       "      <th>std</th>\n",
       "      <td>4.746335e+01</td>\n",
       "    </tr>\n",
       "    <tr>\n",
       "      <th>min</th>\n",
       "      <td>1.206500e+02</td>\n",
       "    </tr>\n",
       "    <tr>\n",
       "      <th>25%</th>\n",
       "      <td>1.599700e+02</td>\n",
       "    </tr>\n",
       "    <tr>\n",
       "      <th>50%</th>\n",
       "      <td>1.849480e+02</td>\n",
       "    </tr>\n",
       "    <tr>\n",
       "      <th>75%</th>\n",
       "      <td>2.178373e+02</td>\n",
       "    </tr>\n",
       "    <tr>\n",
       "      <th>max</th>\n",
       "      <td>3.277580e+02</td>\n",
       "    </tr>\n",
       "  </tbody>\n",
       "</table>\n",
       "</div>"
      ],
      "text/plain": [
       "              close\n",
       "count  1.742520e+06\n",
       "mean   1.961501e+02\n",
       "std    4.746335e+01\n",
       "min    1.206500e+02\n",
       "25%    1.599700e+02\n",
       "50%    1.849480e+02\n",
       "75%    2.178373e+02\n",
       "max    3.277580e+02"
      ]
     },
     "execution_count": 6,
     "metadata": {},
     "output_type": "execute_result"
    }
   ],
   "source": [
    "df.describe()"
   ]
  },
  {
   "cell_type": "markdown",
   "metadata": {},
   "source": [
    "are there Nans?"
   ]
  },
  {
   "cell_type": "code",
   "execution_count": 7,
   "metadata": {},
   "outputs": [
    {
     "data": {
      "text/plain": [
       "datetime    0\n",
       "close       0\n",
       "dtype: int64"
      ]
     },
     "execution_count": 7,
     "metadata": {},
     "output_type": "execute_result"
    }
   ],
   "source": [
    "df.isnull().sum()"
   ]
  },
  {
   "cell_type": "markdown",
   "metadata": {},
   "source": [
    "good :-)"
   ]
  },
  {
   "cell_type": "markdown",
   "metadata": {},
   "source": [
    "### 2.1) dealing with data outside of trading sessions\n",
    "delete data that is in-between trading sessions, that is not between 16:30-23:00"
   ]
  },
  {
   "cell_type": "code",
   "execution_count": 8,
   "metadata": {},
   "outputs": [
    {
     "data": {
      "text/html": [
       "<div>\n",
       "<style scoped>\n",
       "    .dataframe tbody tr th:only-of-type {\n",
       "        vertical-align: middle;\n",
       "    }\n",
       "\n",
       "    .dataframe tbody tr th {\n",
       "        vertical-align: top;\n",
       "    }\n",
       "\n",
       "    .dataframe thead th {\n",
       "        text-align: right;\n",
       "    }\n",
       "</style>\n",
       "<table border=\"1\" class=\"dataframe\">\n",
       "  <thead>\n",
       "    <tr style=\"text-align: right;\">\n",
       "      <th></th>\n",
       "      <th>datetime</th>\n",
       "      <th>close</th>\n",
       "    </tr>\n",
       "  </thead>\n",
       "  <tbody>\n",
       "    <tr>\n",
       "      <th>0</th>\n",
       "      <td>2017-01-26 16:30:00</td>\n",
       "      <td>121.710</td>\n",
       "    </tr>\n",
       "    <tr>\n",
       "      <th>1</th>\n",
       "      <td>2017-01-26 16:31:00</td>\n",
       "      <td>121.891</td>\n",
       "    </tr>\n",
       "    <tr>\n",
       "      <th>2</th>\n",
       "      <td>2017-01-26 16:32:00</td>\n",
       "      <td>122.060</td>\n",
       "    </tr>\n",
       "    <tr>\n",
       "      <th>3</th>\n",
       "      <td>2017-01-26 16:33:00</td>\n",
       "      <td>122.240</td>\n",
       "    </tr>\n",
       "    <tr>\n",
       "      <th>4</th>\n",
       "      <td>2017-01-26 16:34:00</td>\n",
       "      <td>122.213</td>\n",
       "    </tr>\n",
       "    <tr>\n",
       "      <th>...</th>\n",
       "      <td>...</td>\n",
       "      <td>...</td>\n",
       "    </tr>\n",
       "    <tr>\n",
       "      <th>473105</th>\n",
       "      <td>2020-05-19 22:56:00</td>\n",
       "      <td>313.657</td>\n",
       "    </tr>\n",
       "    <tr>\n",
       "      <th>473106</th>\n",
       "      <td>2020-05-19 22:57:00</td>\n",
       "      <td>313.547</td>\n",
       "    </tr>\n",
       "    <tr>\n",
       "      <th>473107</th>\n",
       "      <td>2020-05-19 22:58:00</td>\n",
       "      <td>313.438</td>\n",
       "    </tr>\n",
       "    <tr>\n",
       "      <th>473108</th>\n",
       "      <td>2020-05-19 22:59:00</td>\n",
       "      <td>312.998</td>\n",
       "    </tr>\n",
       "    <tr>\n",
       "      <th>473109</th>\n",
       "      <td>2020-05-19 23:00:00</td>\n",
       "      <td>312.998</td>\n",
       "    </tr>\n",
       "  </tbody>\n",
       "</table>\n",
       "<p>473110 rows × 2 columns</p>\n",
       "</div>"
      ],
      "text/plain": [
       "                  datetime    close\n",
       "0      2017-01-26 16:30:00  121.710\n",
       "1      2017-01-26 16:31:00  121.891\n",
       "2      2017-01-26 16:32:00  122.060\n",
       "3      2017-01-26 16:33:00  122.240\n",
       "4      2017-01-26 16:34:00  122.213\n",
       "...                    ...      ...\n",
       "473105 2020-05-19 22:56:00  313.657\n",
       "473106 2020-05-19 22:57:00  313.547\n",
       "473107 2020-05-19 22:58:00  313.438\n",
       "473108 2020-05-19 22:59:00  312.998\n",
       "473109 2020-05-19 23:00:00  312.998\n",
       "\n",
       "[473110 rows x 2 columns]"
      ]
     },
     "execution_count": 8,
     "metadata": {},
     "output_type": "execute_result"
    }
   ],
   "source": [
    "df = df.set_index(['datetime']).between_time(\"16:30\", \"23:00\").reset_index()\n",
    "df"
   ]
  },
  {
   "cell_type": "markdown",
   "metadata": {},
   "source": [
    "### 2.2) add features"
   ]
  },
  {
   "cell_type": "markdown",
   "metadata": {},
   "source": [
    "add time columns"
   ]
  },
  {
   "cell_type": "code",
   "execution_count": 9,
   "metadata": {},
   "outputs": [],
   "source": [
    "common.add_times(df, 'datetime')"
   ]
  },
  {
   "cell_type": "code",
   "execution_count": 10,
   "metadata": {},
   "outputs": [
    {
     "data": {
      "text/html": [
       "<div>\n",
       "<style scoped>\n",
       "    .dataframe tbody tr th:only-of-type {\n",
       "        vertical-align: middle;\n",
       "    }\n",
       "\n",
       "    .dataframe tbody tr th {\n",
       "        vertical-align: top;\n",
       "    }\n",
       "\n",
       "    .dataframe thead th {\n",
       "        text-align: right;\n",
       "    }\n",
       "</style>\n",
       "<table border=\"1\" class=\"dataframe\">\n",
       "  <thead>\n",
       "    <tr style=\"text-align: right;\">\n",
       "      <th></th>\n",
       "      <th>0</th>\n",
       "      <th>1</th>\n",
       "      <th>2</th>\n",
       "      <th>3</th>\n",
       "      <th>4</th>\n",
       "    </tr>\n",
       "  </thead>\n",
       "  <tbody>\n",
       "    <tr>\n",
       "      <th>datetime</th>\n",
       "      <td>2017-01-26 16:30:00</td>\n",
       "      <td>2017-01-26 16:31:00</td>\n",
       "      <td>2017-01-26 16:32:00</td>\n",
       "      <td>2017-01-26 16:33:00</td>\n",
       "      <td>2017-01-26 16:34:00</td>\n",
       "    </tr>\n",
       "    <tr>\n",
       "      <th>close</th>\n",
       "      <td>121.71</td>\n",
       "      <td>121.891</td>\n",
       "      <td>122.06</td>\n",
       "      <td>122.24</td>\n",
       "      <td>122.213</td>\n",
       "    </tr>\n",
       "    <tr>\n",
       "      <th>minute</th>\n",
       "      <td>30</td>\n",
       "      <td>31</td>\n",
       "      <td>32</td>\n",
       "      <td>33</td>\n",
       "      <td>34</td>\n",
       "    </tr>\n",
       "    <tr>\n",
       "      <th>hour</th>\n",
       "      <td>16</td>\n",
       "      <td>16</td>\n",
       "      <td>16</td>\n",
       "      <td>16</td>\n",
       "      <td>16</td>\n",
       "    </tr>\n",
       "    <tr>\n",
       "      <th>day</th>\n",
       "      <td>26</td>\n",
       "      <td>26</td>\n",
       "      <td>26</td>\n",
       "      <td>26</td>\n",
       "      <td>26</td>\n",
       "    </tr>\n",
       "    <tr>\n",
       "      <th>month</th>\n",
       "      <td>1</td>\n",
       "      <td>1</td>\n",
       "      <td>1</td>\n",
       "      <td>1</td>\n",
       "      <td>1</td>\n",
       "    </tr>\n",
       "    <tr>\n",
       "      <th>minute_of_day</th>\n",
       "      <td>990</td>\n",
       "      <td>991</td>\n",
       "      <td>992</td>\n",
       "      <td>993</td>\n",
       "      <td>994</td>\n",
       "    </tr>\n",
       "    <tr>\n",
       "      <th>day_of_week</th>\n",
       "      <td>3</td>\n",
       "      <td>3</td>\n",
       "      <td>3</td>\n",
       "      <td>3</td>\n",
       "      <td>3</td>\n",
       "    </tr>\n",
       "  </tbody>\n",
       "</table>\n",
       "</div>"
      ],
      "text/plain": [
       "                                 0                    1                    2  \\\n",
       "datetime       2017-01-26 16:30:00  2017-01-26 16:31:00  2017-01-26 16:32:00   \n",
       "close                       121.71              121.891               122.06   \n",
       "minute                          30                   31                   32   \n",
       "hour                            16                   16                   16   \n",
       "day                             26                   26                   26   \n",
       "month                            1                    1                    1   \n",
       "minute_of_day                  990                  991                  992   \n",
       "day_of_week                      3                    3                    3   \n",
       "\n",
       "                                 3                    4  \n",
       "datetime       2017-01-26 16:33:00  2017-01-26 16:34:00  \n",
       "close                       122.24              122.213  \n",
       "minute                          33                   34  \n",
       "hour                            16                   16  \n",
       "day                             26                   26  \n",
       "month                            1                    1  \n",
       "minute_of_day                  993                  994  \n",
       "day_of_week                      3                    3  "
      ]
     },
     "execution_count": 10,
     "metadata": {},
     "output_type": "execute_result"
    }
   ],
   "source": [
    "df.head().transpose()"
   ]
  },
  {
   "cell_type": "markdown",
   "metadata": {},
   "source": [
    "calc different rocs"
   ]
  },
  {
   "cell_type": "code",
   "execution_count": 11,
   "metadata": {},
   "outputs": [],
   "source": [
    "roc_vals = [1,3,5]\n",
    "for val in roc_vals:\n",
    "    df['roc'+str(val)] = common.rate_of_change(df, 'close', val)"
   ]
  },
  {
   "cell_type": "code",
   "execution_count": 12,
   "metadata": {},
   "outputs": [
    {
     "data": {
      "text/html": [
       "<div>\n",
       "<style scoped>\n",
       "    .dataframe tbody tr th:only-of-type {\n",
       "        vertical-align: middle;\n",
       "    }\n",
       "\n",
       "    .dataframe tbody tr th {\n",
       "        vertical-align: top;\n",
       "    }\n",
       "\n",
       "    .dataframe thead th {\n",
       "        text-align: right;\n",
       "    }\n",
       "</style>\n",
       "<table border=\"1\" class=\"dataframe\">\n",
       "  <thead>\n",
       "    <tr style=\"text-align: right;\">\n",
       "      <th></th>\n",
       "      <th>0</th>\n",
       "      <th>1</th>\n",
       "      <th>2</th>\n",
       "      <th>3</th>\n",
       "      <th>4</th>\n",
       "      <th>5</th>\n",
       "    </tr>\n",
       "  </thead>\n",
       "  <tbody>\n",
       "    <tr>\n",
       "      <th>datetime</th>\n",
       "      <td>2017-01-26 16:30:00</td>\n",
       "      <td>2017-01-26 16:31:00</td>\n",
       "      <td>2017-01-26 16:32:00</td>\n",
       "      <td>2017-01-26 16:33:00</td>\n",
       "      <td>2017-01-26 16:34:00</td>\n",
       "      <td>2017-01-26 16:35:00</td>\n",
       "    </tr>\n",
       "    <tr>\n",
       "      <th>close</th>\n",
       "      <td>121.71</td>\n",
       "      <td>121.891</td>\n",
       "      <td>122.06</td>\n",
       "      <td>122.24</td>\n",
       "      <td>122.213</td>\n",
       "      <td>122.042</td>\n",
       "    </tr>\n",
       "    <tr>\n",
       "      <th>minute</th>\n",
       "      <td>30</td>\n",
       "      <td>31</td>\n",
       "      <td>32</td>\n",
       "      <td>33</td>\n",
       "      <td>34</td>\n",
       "      <td>35</td>\n",
       "    </tr>\n",
       "    <tr>\n",
       "      <th>hour</th>\n",
       "      <td>16</td>\n",
       "      <td>16</td>\n",
       "      <td>16</td>\n",
       "      <td>16</td>\n",
       "      <td>16</td>\n",
       "      <td>16</td>\n",
       "    </tr>\n",
       "    <tr>\n",
       "      <th>day</th>\n",
       "      <td>26</td>\n",
       "      <td>26</td>\n",
       "      <td>26</td>\n",
       "      <td>26</td>\n",
       "      <td>26</td>\n",
       "      <td>26</td>\n",
       "    </tr>\n",
       "    <tr>\n",
       "      <th>month</th>\n",
       "      <td>1</td>\n",
       "      <td>1</td>\n",
       "      <td>1</td>\n",
       "      <td>1</td>\n",
       "      <td>1</td>\n",
       "      <td>1</td>\n",
       "    </tr>\n",
       "    <tr>\n",
       "      <th>minute_of_day</th>\n",
       "      <td>990</td>\n",
       "      <td>991</td>\n",
       "      <td>992</td>\n",
       "      <td>993</td>\n",
       "      <td>994</td>\n",
       "      <td>995</td>\n",
       "    </tr>\n",
       "    <tr>\n",
       "      <th>day_of_week</th>\n",
       "      <td>3</td>\n",
       "      <td>3</td>\n",
       "      <td>3</td>\n",
       "      <td>3</td>\n",
       "      <td>3</td>\n",
       "      <td>3</td>\n",
       "    </tr>\n",
       "    <tr>\n",
       "      <th>roc1</th>\n",
       "      <td>NaN</td>\n",
       "      <td>0.00148714</td>\n",
       "      <td>0.00138648</td>\n",
       "      <td>0.00147468</td>\n",
       "      <td>-0.000220877</td>\n",
       "      <td>-0.0013992</td>\n",
       "    </tr>\n",
       "    <tr>\n",
       "      <th>roc3</th>\n",
       "      <td>NaN</td>\n",
       "      <td>NaN</td>\n",
       "      <td>NaN</td>\n",
       "      <td>0.00435461</td>\n",
       "      <td>0.0026417</td>\n",
       "      <td>-0.000147468</td>\n",
       "    </tr>\n",
       "    <tr>\n",
       "      <th>roc5</th>\n",
       "      <td>NaN</td>\n",
       "      <td>NaN</td>\n",
       "      <td>NaN</td>\n",
       "      <td>NaN</td>\n",
       "      <td>NaN</td>\n",
       "      <td>0.0027278</td>\n",
       "    </tr>\n",
       "  </tbody>\n",
       "</table>\n",
       "</div>"
      ],
      "text/plain": [
       "                                 0                    1                    2  \\\n",
       "datetime       2017-01-26 16:30:00  2017-01-26 16:31:00  2017-01-26 16:32:00   \n",
       "close                       121.71              121.891               122.06   \n",
       "minute                          30                   31                   32   \n",
       "hour                            16                   16                   16   \n",
       "day                             26                   26                   26   \n",
       "month                            1                    1                    1   \n",
       "minute_of_day                  990                  991                  992   \n",
       "day_of_week                      3                    3                    3   \n",
       "roc1                           NaN           0.00148714           0.00138648   \n",
       "roc3                           NaN                  NaN                  NaN   \n",
       "roc5                           NaN                  NaN                  NaN   \n",
       "\n",
       "                                 3                    4                    5  \n",
       "datetime       2017-01-26 16:33:00  2017-01-26 16:34:00  2017-01-26 16:35:00  \n",
       "close                       122.24              122.213              122.042  \n",
       "minute                          33                   34                   35  \n",
       "hour                            16                   16                   16  \n",
       "day                             26                   26                   26  \n",
       "month                            1                    1                    1  \n",
       "minute_of_day                  993                  994                  995  \n",
       "day_of_week                      3                    3                    3  \n",
       "roc1                    0.00147468         -0.000220877           -0.0013992  \n",
       "roc3                    0.00435461            0.0026417         -0.000147468  \n",
       "roc5                           NaN                  NaN            0.0027278  "
      ]
     },
     "execution_count": 12,
     "metadata": {},
     "output_type": "execute_result"
    }
   ],
   "source": [
    "df.head(6).transpose()"
   ]
  },
  {
   "cell_type": "markdown",
   "metadata": {},
   "source": [
    "### 2.3) add target"
   ]
  },
  {
   "cell_type": "code",
   "execution_count": 13,
   "metadata": {},
   "outputs": [],
   "source": [
    "df['target'] = common.rate_of_change(df, 'close', -PREDICTION_SIZE)"
   ]
  },
  {
   "cell_type": "code",
   "execution_count": 14,
   "metadata": {},
   "outputs": [
    {
     "data": {
      "text/html": [
       "<div>\n",
       "<style scoped>\n",
       "    .dataframe tbody tr th:only-of-type {\n",
       "        vertical-align: middle;\n",
       "    }\n",
       "\n",
       "    .dataframe tbody tr th {\n",
       "        vertical-align: top;\n",
       "    }\n",
       "\n",
       "    .dataframe thead th {\n",
       "        text-align: right;\n",
       "    }\n",
       "</style>\n",
       "<table border=\"1\" class=\"dataframe\">\n",
       "  <thead>\n",
       "    <tr style=\"text-align: right;\">\n",
       "      <th></th>\n",
       "      <th>0</th>\n",
       "      <th>1</th>\n",
       "      <th>2</th>\n",
       "      <th>3</th>\n",
       "      <th>4</th>\n",
       "      <th>5</th>\n",
       "    </tr>\n",
       "  </thead>\n",
       "  <tbody>\n",
       "    <tr>\n",
       "      <th>datetime</th>\n",
       "      <td>2017-01-26 16:30:00</td>\n",
       "      <td>2017-01-26 16:31:00</td>\n",
       "      <td>2017-01-26 16:32:00</td>\n",
       "      <td>2017-01-26 16:33:00</td>\n",
       "      <td>2017-01-26 16:34:00</td>\n",
       "      <td>2017-01-26 16:35:00</td>\n",
       "    </tr>\n",
       "    <tr>\n",
       "      <th>close</th>\n",
       "      <td>121.71</td>\n",
       "      <td>121.891</td>\n",
       "      <td>122.06</td>\n",
       "      <td>122.24</td>\n",
       "      <td>122.213</td>\n",
       "      <td>122.042</td>\n",
       "    </tr>\n",
       "    <tr>\n",
       "      <th>minute</th>\n",
       "      <td>30</td>\n",
       "      <td>31</td>\n",
       "      <td>32</td>\n",
       "      <td>33</td>\n",
       "      <td>34</td>\n",
       "      <td>35</td>\n",
       "    </tr>\n",
       "    <tr>\n",
       "      <th>hour</th>\n",
       "      <td>16</td>\n",
       "      <td>16</td>\n",
       "      <td>16</td>\n",
       "      <td>16</td>\n",
       "      <td>16</td>\n",
       "      <td>16</td>\n",
       "    </tr>\n",
       "    <tr>\n",
       "      <th>day</th>\n",
       "      <td>26</td>\n",
       "      <td>26</td>\n",
       "      <td>26</td>\n",
       "      <td>26</td>\n",
       "      <td>26</td>\n",
       "      <td>26</td>\n",
       "    </tr>\n",
       "    <tr>\n",
       "      <th>month</th>\n",
       "      <td>1</td>\n",
       "      <td>1</td>\n",
       "      <td>1</td>\n",
       "      <td>1</td>\n",
       "      <td>1</td>\n",
       "      <td>1</td>\n",
       "    </tr>\n",
       "    <tr>\n",
       "      <th>minute_of_day</th>\n",
       "      <td>990</td>\n",
       "      <td>991</td>\n",
       "      <td>992</td>\n",
       "      <td>993</td>\n",
       "      <td>994</td>\n",
       "      <td>995</td>\n",
       "    </tr>\n",
       "    <tr>\n",
       "      <th>day_of_week</th>\n",
       "      <td>3</td>\n",
       "      <td>3</td>\n",
       "      <td>3</td>\n",
       "      <td>3</td>\n",
       "      <td>3</td>\n",
       "      <td>3</td>\n",
       "    </tr>\n",
       "    <tr>\n",
       "      <th>roc1</th>\n",
       "      <td>NaN</td>\n",
       "      <td>0.00148714</td>\n",
       "      <td>0.00138648</td>\n",
       "      <td>0.00147468</td>\n",
       "      <td>-0.000220877</td>\n",
       "      <td>-0.0013992</td>\n",
       "    </tr>\n",
       "    <tr>\n",
       "      <th>roc3</th>\n",
       "      <td>NaN</td>\n",
       "      <td>NaN</td>\n",
       "      <td>NaN</td>\n",
       "      <td>0.00435461</td>\n",
       "      <td>0.0026417</td>\n",
       "      <td>-0.000147468</td>\n",
       "    </tr>\n",
       "    <tr>\n",
       "      <th>roc5</th>\n",
       "      <td>NaN</td>\n",
       "      <td>NaN</td>\n",
       "      <td>NaN</td>\n",
       "      <td>NaN</td>\n",
       "      <td>NaN</td>\n",
       "      <td>0.0027278</td>\n",
       "    </tr>\n",
       "    <tr>\n",
       "      <th>target</th>\n",
       "      <td>-0.00272037</td>\n",
       "      <td>-0.00270003</td>\n",
       "      <td>-0.00147251</td>\n",
       "      <td>8.1813e-05</td>\n",
       "      <td>1.63651e-05</td>\n",
       "      <td>-9.01248e-05</td>\n",
       "    </tr>\n",
       "  </tbody>\n",
       "</table>\n",
       "</div>"
      ],
      "text/plain": [
       "                                 0                    1                    2  \\\n",
       "datetime       2017-01-26 16:30:00  2017-01-26 16:31:00  2017-01-26 16:32:00   \n",
       "close                       121.71              121.891               122.06   \n",
       "minute                          30                   31                   32   \n",
       "hour                            16                   16                   16   \n",
       "day                             26                   26                   26   \n",
       "month                            1                    1                    1   \n",
       "minute_of_day                  990                  991                  992   \n",
       "day_of_week                      3                    3                    3   \n",
       "roc1                           NaN           0.00148714           0.00138648   \n",
       "roc3                           NaN                  NaN                  NaN   \n",
       "roc5                           NaN                  NaN                  NaN   \n",
       "target                 -0.00272037          -0.00270003          -0.00147251   \n",
       "\n",
       "                                 3                    4                    5  \n",
       "datetime       2017-01-26 16:33:00  2017-01-26 16:34:00  2017-01-26 16:35:00  \n",
       "close                       122.24              122.213              122.042  \n",
       "minute                          33                   34                   35  \n",
       "hour                            16                   16                   16  \n",
       "day                             26                   26                   26  \n",
       "month                            1                    1                    1  \n",
       "minute_of_day                  993                  994                  995  \n",
       "day_of_week                      3                    3                    3  \n",
       "roc1                    0.00147468         -0.000220877           -0.0013992  \n",
       "roc3                    0.00435461            0.0026417         -0.000147468  \n",
       "roc5                           NaN                  NaN            0.0027278  \n",
       "target                  8.1813e-05          1.63651e-05         -9.01248e-05  "
      ]
     },
     "execution_count": 14,
     "metadata": {},
     "output_type": "execute_result"
    }
   ],
   "source": [
    "df.head(6).transpose()"
   ]
  },
  {
   "cell_type": "markdown",
   "metadata": {},
   "source": [
    "### 2.4) final cleaning"
   ]
  },
  {
   "cell_type": "markdown",
   "metadata": {},
   "source": [
    "drop first 5 minutes of every day (so we wont use roc5 which been calculated on data from yesterday)"
   ]
  },
  {
   "cell_type": "code",
   "execution_count": 15,
   "metadata": {},
   "outputs": [],
   "source": [
    "df = df[df['minute_of_day'] >= 995]"
   ]
  },
  {
   "cell_type": "markdown",
   "metadata": {},
   "source": [
    "drop last 5 minutes in whole dataset (missing targets)"
   ]
  },
  {
   "cell_type": "code",
   "execution_count": 16,
   "metadata": {},
   "outputs": [],
   "source": [
    "df = df.iloc[:-PREDICTION_SIZE]"
   ]
  },
  {
   "cell_type": "code",
   "execution_count": 17,
   "metadata": {},
   "outputs": [
    {
     "data": {
      "text/html": [
       "<div>\n",
       "<style scoped>\n",
       "    .dataframe tbody tr th:only-of-type {\n",
       "        vertical-align: middle;\n",
       "    }\n",
       "\n",
       "    .dataframe tbody tr th {\n",
       "        vertical-align: top;\n",
       "    }\n",
       "\n",
       "    .dataframe thead th {\n",
       "        text-align: right;\n",
       "    }\n",
       "</style>\n",
       "<table border=\"1\" class=\"dataframe\">\n",
       "  <thead>\n",
       "    <tr style=\"text-align: right;\">\n",
       "      <th></th>\n",
       "      <th>473100</th>\n",
       "      <th>473101</th>\n",
       "      <th>473102</th>\n",
       "      <th>473103</th>\n",
       "      <th>473104</th>\n",
       "    </tr>\n",
       "  </thead>\n",
       "  <tbody>\n",
       "    <tr>\n",
       "      <th>datetime</th>\n",
       "      <td>2020-05-19 22:51:00</td>\n",
       "      <td>2020-05-19 22:52:00</td>\n",
       "      <td>2020-05-19 22:53:00</td>\n",
       "      <td>2020-05-19 22:54:00</td>\n",
       "      <td>2020-05-19 22:55:00</td>\n",
       "    </tr>\n",
       "    <tr>\n",
       "      <th>close</th>\n",
       "      <td>313.847</td>\n",
       "      <td>314.307</td>\n",
       "      <td>313.868</td>\n",
       "      <td>313.618</td>\n",
       "      <td>313.488</td>\n",
       "    </tr>\n",
       "    <tr>\n",
       "      <th>minute</th>\n",
       "      <td>51</td>\n",
       "      <td>52</td>\n",
       "      <td>53</td>\n",
       "      <td>54</td>\n",
       "      <td>55</td>\n",
       "    </tr>\n",
       "    <tr>\n",
       "      <th>hour</th>\n",
       "      <td>22</td>\n",
       "      <td>22</td>\n",
       "      <td>22</td>\n",
       "      <td>22</td>\n",
       "      <td>22</td>\n",
       "    </tr>\n",
       "    <tr>\n",
       "      <th>day</th>\n",
       "      <td>19</td>\n",
       "      <td>19</td>\n",
       "      <td>19</td>\n",
       "      <td>19</td>\n",
       "      <td>19</td>\n",
       "    </tr>\n",
       "    <tr>\n",
       "      <th>month</th>\n",
       "      <td>5</td>\n",
       "      <td>5</td>\n",
       "      <td>5</td>\n",
       "      <td>5</td>\n",
       "      <td>5</td>\n",
       "    </tr>\n",
       "    <tr>\n",
       "      <th>minute_of_day</th>\n",
       "      <td>1371</td>\n",
       "      <td>1372</td>\n",
       "      <td>1373</td>\n",
       "      <td>1374</td>\n",
       "      <td>1375</td>\n",
       "    </tr>\n",
       "    <tr>\n",
       "      <th>day_of_week</th>\n",
       "      <td>1</td>\n",
       "      <td>1</td>\n",
       "      <td>1</td>\n",
       "      <td>1</td>\n",
       "      <td>1</td>\n",
       "    </tr>\n",
       "    <tr>\n",
       "      <th>roc1</th>\n",
       "      <td>-0.00187637</td>\n",
       "      <td>0.00146568</td>\n",
       "      <td>-0.00139672</td>\n",
       "      <td>-0.000796513</td>\n",
       "      <td>-0.000414517</td>\n",
       "    </tr>\n",
       "    <tr>\n",
       "      <th>roc3</th>\n",
       "      <td>-0.00270418</td>\n",
       "      <td>-0.00130276</td>\n",
       "      <td>-0.00180958</td>\n",
       "      <td>-0.000729655</td>\n",
       "      <td>-0.00260573</td>\n",
       "    </tr>\n",
       "    <tr>\n",
       "      <th>roc5</th>\n",
       "      <td>-0.00453885</td>\n",
       "      <td>-0.00168658</td>\n",
       "      <td>-0.00263745</td>\n",
       "      <td>-0.00349203</td>\n",
       "      <td>-0.00301809</td>\n",
       "    </tr>\n",
       "    <tr>\n",
       "      <th>target</th>\n",
       "      <td>0.000605757</td>\n",
       "      <td>0.00242388</td>\n",
       "      <td>0.00137188</td>\n",
       "      <td>0.00198084</td>\n",
       "      <td>0.00156551</td>\n",
       "    </tr>\n",
       "  </tbody>\n",
       "</table>\n",
       "</div>"
      ],
      "text/plain": [
       "                            473100               473101               473102  \\\n",
       "datetime       2020-05-19 22:51:00  2020-05-19 22:52:00  2020-05-19 22:53:00   \n",
       "close                      313.847              314.307              313.868   \n",
       "minute                          51                   52                   53   \n",
       "hour                            22                   22                   22   \n",
       "day                             19                   19                   19   \n",
       "month                            5                    5                    5   \n",
       "minute_of_day                 1371                 1372                 1373   \n",
       "day_of_week                      1                    1                    1   \n",
       "roc1                   -0.00187637           0.00146568          -0.00139672   \n",
       "roc3                   -0.00270418          -0.00130276          -0.00180958   \n",
       "roc5                   -0.00453885          -0.00168658          -0.00263745   \n",
       "target                 0.000605757           0.00242388           0.00137188   \n",
       "\n",
       "                            473103               473104  \n",
       "datetime       2020-05-19 22:54:00  2020-05-19 22:55:00  \n",
       "close                      313.618              313.488  \n",
       "minute                          54                   55  \n",
       "hour                            22                   22  \n",
       "day                             19                   19  \n",
       "month                            5                    5  \n",
       "minute_of_day                 1374                 1375  \n",
       "day_of_week                      1                    1  \n",
       "roc1                  -0.000796513         -0.000414517  \n",
       "roc3                  -0.000729655          -0.00260573  \n",
       "roc5                   -0.00349203          -0.00301809  \n",
       "target                  0.00198084           0.00156551  "
      ]
     },
     "execution_count": 17,
     "metadata": {},
     "output_type": "execute_result"
    }
   ],
   "source": [
    "df.tail().transpose()"
   ]
  },
  {
   "cell_type": "markdown",
   "metadata": {},
   "source": [
    "drop datetime - as some models cant deal with this datatype"
   ]
  },
  {
   "cell_type": "code",
   "execution_count": 18,
   "metadata": {},
   "outputs": [],
   "source": [
    "df.drop(columns=['datetime'], inplace=True)"
   ]
  },
  {
   "cell_type": "markdown",
   "metadata": {},
   "source": [
    "## 3) modeling"
   ]
  },
  {
   "cell_type": "markdown",
   "metadata": {},
   "source": [
    "how much data we have?"
   ]
  },
  {
   "cell_type": "code",
   "execution_count": 19,
   "metadata": {},
   "outputs": [
    {
     "data": {
      "text/plain": [
       "467055"
      ]
     },
     "execution_count": 19,
     "metadata": {},
     "output_type": "execute_result"
    }
   ],
   "source": [
    "len(df)"
   ]
  },
  {
   "cell_type": "markdown",
   "metadata": {},
   "source": [
    "### 3.1) splitting data into training, validation, and test sets"
   ]
  },
  {
   "cell_type": "code",
   "execution_count": 20,
   "metadata": {},
   "outputs": [
    {
     "data": {
      "text/plain": [
       "<matplotlib.axes._subplots.AxesSubplot at 0x1c61ab5cf98>"
      ]
     },
     "execution_count": 20,
     "metadata": {},
     "output_type": "execute_result"
    },
    {
     "data": {
      "image/png": "[encoded data removed]",
      "text/plain": [
       "<Figure size 432x288 with 1 Axes>"
      ]
     },
     "metadata": {
      "needs_background": "light"
     },
     "output_type": "display_data"
    }
   ],
   "source": [
    "df['close'].plot()"
   ]
  },
  {
   "cell_type": "code",
   "execution_count": 21,
   "metadata": {},
   "outputs": [],
   "source": [
    "# similar split point to IEX split point (on IEX-aapl notebook)\n",
    "split_point = 412800\n",
    "\n",
    "train_df = df.iloc[:split_point]\n",
    "test_df = df.iloc[split_point:]"
   ]
  },
  {
   "cell_type": "markdown",
   "metadata": {},
   "source": [
    "percentange wise:"
   ]
  },
  {
   "cell_type": "code",
   "execution_count": 22,
   "metadata": {},
   "outputs": [
    {
     "name": "stdout",
     "output_type": "stream",
     "text": [
      "train_df = 0.88\n",
      "test_df = 0.12\n"
     ]
    }
   ],
   "source": [
    "print(f\"train_df = {len(train_df) / len(df):.2f}\")\n",
    "print(f\"test_df = {len(test_df) / len(df):.2f}\")"
   ]
  },
  {
   "cell_type": "markdown",
   "metadata": {},
   "source": [
    "### 3.2) evaluation metric\n",
    "continuing the stupid simple spirit - i use MSE"
   ]
  },
  {
   "cell_type": "markdown",
   "metadata": {},
   "source": [
    "### 3.2) baseline\n",
    "baseline model will be a model which predict the current roc5 to be the next 5 minutes roc5 (target) <br/>\n",
    "it is probably a terrible model - with little to no predictive value. <br/>\n",
    "need to think of a way to measure that."
   ]
  },
  {
   "cell_type": "code",
   "execution_count": 23,
   "metadata": {},
   "outputs": [
    {
     "data": {
      "text/plain": [
       "3.0246816919985784e-06"
      ]
     },
     "execution_count": 23,
     "metadata": {},
     "output_type": "execute_result"
    }
   ],
   "source": [
    "mean_squared_error(train_df['target'], train_df['roc5'])"
   ]
  },
  {
   "cell_type": "code",
   "execution_count": 24,
   "metadata": {},
   "outputs": [
    {
     "data": {
      "text/plain": [
       "1.4293582580193629e-05"
      ]
     },
     "execution_count": 24,
     "metadata": {},
     "output_type": "execute_result"
    }
   ],
   "source": [
    "mean_squared_error(test_df['target'], test_df['roc5'])"
   ]
  },
  {
   "cell_type": "markdown",
   "metadata": {},
   "source": [
    "### 3.3) random forest"
   ]
  },
  {
   "cell_type": "markdown",
   "metadata": {},
   "source": [
    "at first, i use simple 10 trees forest"
   ]
  },
  {
   "cell_type": "code",
   "execution_count": 25,
   "metadata": {},
   "outputs": [],
   "source": [
    "train_features = train_df.drop(columns=['target'])"
   ]
  },
  {
   "cell_type": "code",
   "execution_count": 26,
   "metadata": {},
   "outputs": [
    {
     "name": "stdout",
     "output_type": "stream",
     "text": [
      "Wall time: 4.32 s\n"
     ]
    },
    {
     "data": {
      "text/plain": [
       "RandomForestRegressor(bootstrap=True, criterion='mse', max_depth=5,\n",
       "           max_features='auto', max_leaf_nodes=None,\n",
       "           min_impurity_decrease=0.0, min_impurity_split=None,\n",
       "           min_samples_leaf=1, min_samples_split=2,\n",
       "           min_weight_fraction_leaf=0.0, n_estimators=10, n_jobs=-1,\n",
       "           oob_score=False, random_state=1, verbose=0, warm_start=False)"
      ]
     },
     "execution_count": 26,
     "metadata": {},
     "output_type": "execute_result"
    }
   ],
   "source": [
    "m_forest = RandomForestRegressor(n_estimators=10, n_jobs=-1, max_depth=5, random_state=1)\n",
    "%time m_forest.fit(train_features, train_df['target'])"
   ]
  },
  {
   "cell_type": "code",
   "execution_count": 27,
   "metadata": {},
   "outputs": [
    {
     "data": {
      "text/plain": [
       "1.8078276365340659e-06"
      ]
     },
     "execution_count": 27,
     "metadata": {},
     "output_type": "execute_result"
    }
   ],
   "source": [
    "mean_squared_error(train_df['target'], m_forest.predict(train_features))"
   ]
  },
  {
   "cell_type": "code",
   "execution_count": 28,
   "metadata": {},
   "outputs": [
    {
     "data": {
      "text/plain": [
       "1.0075446301688727e-05"
      ]
     },
     "execution_count": 28,
     "metadata": {},
     "output_type": "execute_result"
    }
   ],
   "source": [
    "mean_squared_error(test_df['target'],\n",
    "                   m_forest.predict(test_df.drop(columns=['target'])))"
   ]
  },
  {
   "cell_type": "markdown",
   "metadata": {},
   "source": [
    "good results? <br/>\n",
    "at least not worst than the baseline <br/>\n",
    "note - in both models, training error > validation error - wierd"
   ]
  },
  {
   "cell_type": "markdown",
   "metadata": {},
   "source": [
    "### 3.4) MLP"
   ]
  },
  {
   "cell_type": "code",
   "execution_count": 30,
   "metadata": {},
   "outputs": [
    {
     "name": "stdout",
     "output_type": "stream",
     "text": [
      "Wall time: 2min 57s\n"
     ]
    },
    {
     "data": {
      "text/plain": [
       "MLPRegressor(activation='logistic', alpha=0.0001, batch_size='auto',\n",
       "       beta_1=0.9, beta_2=0.999, early_stopping=False, epsilon=1e-08,\n",
       "       hidden_layer_sizes=(20, 20, 20, 20, 20, 20, 20, 20, 20, 20, 20, 20, 20, 20, 20, 20, 20, 20, 20, 20),\n",
       "       learning_rate='constant', learning_rate_init=0.001, max_iter=200,\n",
       "       momentum=0.9, n_iter_no_change=10, nesterovs_momentum=True,\n",
       "       power_t=0.5, random_state=1, shuffle=True, solver='adam',\n",
       "       tol=0.0001, validation_fraction=0.1, verbose=False,\n",
       "       warm_start=False)"
      ]
     },
     "execution_count": 30,
     "metadata": {},
     "output_type": "execute_result"
    }
   ],
   "source": [
    "m_mlp = MLPRegressor(hidden_layer_sizes=tuple([20 for _ in range(20)]), \n",
    "                     random_state=1,\n",
    "                     activation='logistic')\n",
    "%time m_mlp.fit(train_features, train_df['target'])"
   ]
  },
  {
   "cell_type": "code",
   "execution_count": 31,
   "metadata": {},
   "outputs": [
    {
     "data": {
      "text/plain": [
       "1.9969405473005558e-06"
      ]
     },
     "execution_count": 31,
     "metadata": {},
     "output_type": "execute_result"
    }
   ],
   "source": [
    "mean_squared_error(train_df['target'], m_mlp.predict(train_features))"
   ]
  },
  {
   "cell_type": "code",
   "execution_count": 32,
   "metadata": {},
   "outputs": [
    {
     "data": {
      "text/plain": [
       "9.545679134464024e-06"
      ]
     },
     "execution_count": 32,
     "metadata": {},
     "output_type": "execute_result"
    }
   ],
   "source": [
    "mean_squared_error(test_df['target'],\n",
    "                   m_mlp.predict(test_df.drop(columns=['target'])))"
   ]
  },
  {
   "cell_type": "markdown",
   "metadata": {},
   "source": [
    "random forest > MLP in sample,<br/>\n",
    "random forest < MLP out of sample.\n",
    "\n",
    "thinking face"
   ]
  },
  {
   "cell_type": "markdown",
   "metadata": {},
   "source": [
    "calculate PnL"
   ]
  },
  {
   "cell_type": "code",
   "execution_count": 38,
   "metadata": {},
   "outputs": [
    {
     "name": "stdout",
     "output_type": "stream",
     "text": [
      " PnL forest = 2.8364474705599846e-05\n",
      " PnL MLP    = -8.197533049076843e-06\n"
     ]
    }
   ],
   "source": [
    "print(f\" PnL forest = {common.rate_of_change_PL(m_forest.predict(train_features), train_df['target']).mean()}\")\n",
    "print(f\" PnL MLP    = {common.rate_of_change_PL(m_mlp.predict(train_features), train_df['target']).mean()}\")"
   ]
  },
  {
   "cell_type": "code",
   "execution_count": 41,
   "metadata": {},
   "outputs": [
    {
     "name": "stdout",
     "output_type": "stream",
     "text": [
      " PnL forest = -2.8167529099597222e-06\n",
      " PnL MLP    = -1.0205352859424781e-07\n"
     ]
    }
   ],
   "source": [
    "print(f\" PnL forest = {common.rate_of_change_PL(m_forest.predict(test_df.drop(columns=['target'])), test_df['target']).mean()}\")\n",
    "print(f\" PnL MLP    = {common.rate_of_change_PL(m_mlp.predict(test_df.drop(columns=['target'])), test_df['target']).mean()}\")"
   ]
  },
  {
   "cell_type": "markdown",
   "metadata": {},
   "source": [
    "lossing money :("
   ]
  }
 ],
 "metadata": {
  "kernelspec": {
   "display_name": "Python 3",
   "language": "python",
   "name": "python3"
  },
  "language_info": {
   "codemirror_mode": {
    "name": "ipython",
    "version": 3
   },
   "file_extension": ".py",
   "mimetype": "text/x-python",
   "name": "python",
   "nbconvert_exporter": "python",
   "pygments_lexer": "ipython3",
   "version": "3.7.1"
  }
 },
 "nbformat": 4,
 "nbformat_minor": 2
}
