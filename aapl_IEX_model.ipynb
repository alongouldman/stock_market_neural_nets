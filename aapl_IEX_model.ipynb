{
 "cells": [
  {
   "cell_type": "markdown",
   "metadata": {},
   "source": [
    "# predict AAPL 5 minute rate of change, <br/> using 1 year IEX data"
   ]
  },
  {
   "cell_type": "code",
   "execution_count": 1,
   "metadata": {},
   "outputs": [],
   "source": [
    "# imports\n",
    "import common\n",
    "import pandas as pd\n",
    "import seaborn as sns\n",
    "\n",
    "from sklearn.metrics import mean_squared_error\n",
    "from sklearn.ensemble import RandomForestRegressor\n",
    "from sklearn.neural_network import MLPRegressor"
   ]
  },
  {
   "cell_type": "code",
   "execution_count": 2,
   "metadata": {},
   "outputs": [],
   "source": [
    "# inputs\n",
    "PREDICTION_SIZE = 5\n",
    "aapl_file_path = r'C:\\Users\\asaf\\Desktop\\DS_workshop-project\\iex_data\\snp500\\AAPL.csv'"
   ]
  },
  {
   "cell_type": "markdown",
   "metadata": {},
   "source": [
    "## 1) get aaple data"
   ]
  },
  {
   "cell_type": "code",
   "execution_count": 3,
   "metadata": {},
   "outputs": [
    {
     "data": {
      "text/html": [
       "<div>\n",
       "<style scoped>\n",
       "    .dataframe tbody tr th:only-of-type {\n",
       "        vertical-align: middle;\n",
       "    }\n",
       "\n",
       "    .dataframe tbody tr th {\n",
       "        vertical-align: top;\n",
       "    }\n",
       "\n",
       "    .dataframe thead th {\n",
       "        text-align: right;\n",
       "    }\n",
       "</style>\n",
       "<table border=\"1\" class=\"dataframe\">\n",
       "  <thead>\n",
       "    <tr style=\"text-align: right;\">\n",
       "      <th></th>\n",
       "      <th>high</th>\n",
       "      <th>low</th>\n",
       "      <th>open</th>\n",
       "      <th>close</th>\n",
       "      <th>average</th>\n",
       "      <th>volume</th>\n",
       "      <th>notional</th>\n",
       "      <th>numberOfTrades</th>\n",
       "      <th>datetime</th>\n",
       "    </tr>\n",
       "  </thead>\n",
       "  <tbody>\n",
       "    <tr>\n",
       "      <th>0</th>\n",
       "      <td>191.645</td>\n",
       "      <td>190.60</td>\n",
       "      <td>191.645</td>\n",
       "      <td>190.65</td>\n",
       "      <td>191.189</td>\n",
       "      <td>4320.0</td>\n",
       "      <td>825935.940</td>\n",
       "      <td>44.0</td>\n",
       "      <td>2019-04-01 09:30:00</td>\n",
       "    </tr>\n",
       "    <tr>\n",
       "      <th>1</th>\n",
       "      <td>190.980</td>\n",
       "      <td>190.64</td>\n",
       "      <td>190.700</td>\n",
       "      <td>190.98</td>\n",
       "      <td>190.761</td>\n",
       "      <td>3246.0</td>\n",
       "      <td>619210.510</td>\n",
       "      <td>32.0</td>\n",
       "      <td>2019-04-01 09:31:00</td>\n",
       "    </tr>\n",
       "    <tr>\n",
       "      <th>2</th>\n",
       "      <td>191.090</td>\n",
       "      <td>190.78</td>\n",
       "      <td>191.060</td>\n",
       "      <td>190.93</td>\n",
       "      <td>190.951</td>\n",
       "      <td>2253.0</td>\n",
       "      <td>430211.740</td>\n",
       "      <td>30.0</td>\n",
       "      <td>2019-04-01 09:32:00</td>\n",
       "    </tr>\n",
       "    <tr>\n",
       "      <th>3</th>\n",
       "      <td>191.010</td>\n",
       "      <td>190.76</td>\n",
       "      <td>190.980</td>\n",
       "      <td>190.83</td>\n",
       "      <td>190.946</td>\n",
       "      <td>2241.0</td>\n",
       "      <td>427911.290</td>\n",
       "      <td>27.0</td>\n",
       "      <td>2019-04-01 09:33:00</td>\n",
       "    </tr>\n",
       "    <tr>\n",
       "      <th>4</th>\n",
       "      <td>190.760</td>\n",
       "      <td>190.60</td>\n",
       "      <td>190.760</td>\n",
       "      <td>190.70</td>\n",
       "      <td>190.666</td>\n",
       "      <td>1069.0</td>\n",
       "      <td>203822.465</td>\n",
       "      <td>12.0</td>\n",
       "      <td>2019-04-01 09:34:00</td>\n",
       "    </tr>\n",
       "  </tbody>\n",
       "</table>\n",
       "</div>"
      ],
      "text/plain": [
       "      high     low     open   close  average  volume    notional  \\\n",
       "0  191.645  190.60  191.645  190.65  191.189  4320.0  825935.940   \n",
       "1  190.980  190.64  190.700  190.98  190.761  3246.0  619210.510   \n",
       "2  191.090  190.78  191.060  190.93  190.951  2253.0  430211.740   \n",
       "3  191.010  190.76  190.980  190.83  190.946  2241.0  427911.290   \n",
       "4  190.760  190.60  190.760  190.70  190.666  1069.0  203822.465   \n",
       "\n",
       "   numberOfTrades            datetime  \n",
       "0            44.0 2019-04-01 09:30:00  \n",
       "1            32.0 2019-04-01 09:31:00  \n",
       "2            30.0 2019-04-01 09:32:00  \n",
       "3            27.0 2019-04-01 09:33:00  \n",
       "4            12.0 2019-04-01 09:34:00  "
      ]
     },
     "execution_count": 3,
     "metadata": {},
     "output_type": "execute_result"
    }
   ],
   "source": [
    "df = pd.read_csv(aapl_file_path)\n",
    "common.minimal_IEX_preprocessing(df)\n",
    "df.drop(columns = ['symbol'], inplace=True)\n",
    "df.head()"
   ]
  },
  {
   "cell_type": "markdown",
   "metadata": {},
   "source": [
    "to keep things stupid simple, focus on specific columns"
   ]
  },
  {
   "cell_type": "code",
   "execution_count": 4,
   "metadata": {},
   "outputs": [
    {
     "data": {
      "text/html": [
       "<div>\n",
       "<style scoped>\n",
       "    .dataframe tbody tr th:only-of-type {\n",
       "        vertical-align: middle;\n",
       "    }\n",
       "\n",
       "    .dataframe tbody tr th {\n",
       "        vertical-align: top;\n",
       "    }\n",
       "\n",
       "    .dataframe thead th {\n",
       "        text-align: right;\n",
       "    }\n",
       "</style>\n",
       "<table border=\"1\" class=\"dataframe\">\n",
       "  <thead>\n",
       "    <tr style=\"text-align: right;\">\n",
       "      <th></th>\n",
       "      <th>close</th>\n",
       "      <th>volume</th>\n",
       "      <th>datetime</th>\n",
       "    </tr>\n",
       "  </thead>\n",
       "  <tbody>\n",
       "    <tr>\n",
       "      <th>0</th>\n",
       "      <td>190.65</td>\n",
       "      <td>4320.0</td>\n",
       "      <td>2019-04-01 09:30:00</td>\n",
       "    </tr>\n",
       "    <tr>\n",
       "      <th>1</th>\n",
       "      <td>190.98</td>\n",
       "      <td>3246.0</td>\n",
       "      <td>2019-04-01 09:31:00</td>\n",
       "    </tr>\n",
       "    <tr>\n",
       "      <th>2</th>\n",
       "      <td>190.93</td>\n",
       "      <td>2253.0</td>\n",
       "      <td>2019-04-01 09:32:00</td>\n",
       "    </tr>\n",
       "    <tr>\n",
       "      <th>3</th>\n",
       "      <td>190.83</td>\n",
       "      <td>2241.0</td>\n",
       "      <td>2019-04-01 09:33:00</td>\n",
       "    </tr>\n",
       "    <tr>\n",
       "      <th>4</th>\n",
       "      <td>190.70</td>\n",
       "      <td>1069.0</td>\n",
       "      <td>2019-04-01 09:34:00</td>\n",
       "    </tr>\n",
       "  </tbody>\n",
       "</table>\n",
       "</div>"
      ],
      "text/plain": [
       "    close  volume            datetime\n",
       "0  190.65  4320.0 2019-04-01 09:30:00\n",
       "1  190.98  3246.0 2019-04-01 09:31:00\n",
       "2  190.93  2253.0 2019-04-01 09:32:00\n",
       "3  190.83  2241.0 2019-04-01 09:33:00\n",
       "4  190.70  1069.0 2019-04-01 09:34:00"
      ]
     },
     "execution_count": 4,
     "metadata": {},
     "output_type": "execute_result"
    }
   ],
   "source": [
    "df.drop(columns=['high','low','open','average','notional', 'numberOfTrades'], inplace=True)\n",
    "df.head()"
   ]
  },
  {
   "cell_type": "markdown",
   "metadata": {},
   "source": [
    "## 2) preprocessing"
   ]
  },
  {
   "cell_type": "markdown",
   "metadata": {},
   "source": [
    "first look"
   ]
  },
  {
   "cell_type": "code",
   "execution_count": 5,
   "metadata": {},
   "outputs": [
    {
     "data": {
      "text/plain": [
       "<matplotlib.axes._subplots.AxesSubplot at 0x283b912eb70>"
      ]
     },
     "execution_count": 5,
     "metadata": {},
     "output_type": "execute_result"
    },
    {
     "data": {
      "image/png": "[encoded data removed]",
      "text/plain": [
       "<Figure size 432x288 with 1 Axes>"
      ]
     },
     "metadata": {
      "needs_background": "light"
     },
     "output_type": "display_data"
    }
   ],
   "source": [
    "df['close'].plot()"
   ]
  },
  {
   "cell_type": "markdown",
   "metadata": {},
   "source": [
    "### 2.1) dealing with Nans"
   ]
  },
  {
   "cell_type": "markdown",
   "metadata": {},
   "source": [
    "look how many Nans we have"
   ]
  },
  {
   "cell_type": "code",
   "execution_count": 6,
   "metadata": {},
   "outputs": [
    {
     "data": {
      "text/plain": [
       "<matplotlib.axes._subplots.AxesSubplot at 0x283b929fc18>"
      ]
     },
     "execution_count": 6,
     "metadata": {},
     "output_type": "execute_result"
    },
    {
     "data": {
      "image/png": "[encoded data removed]",
      "text/plain": [
       "<Figure size 432x288 with 1 Axes>"
      ]
     },
     "metadata": {
      "needs_background": "light"
     },
     "output_type": "display_data"
    }
   ],
   "source": [
    "sns.heatmap(df.isnull(), cbar=False)"
   ]
  },
  {
   "cell_type": "code",
   "execution_count": 7,
   "metadata": {},
   "outputs": [
    {
     "data": {
      "text/plain": [
       "close       3219\n",
       "volume         0\n",
       "datetime       0\n",
       "dtype: int64"
      ]
     },
     "execution_count": 7,
     "metadata": {},
     "output_type": "execute_result"
    }
   ],
   "source": [
    "df.isnull().sum()"
   ]
  },
  {
   "cell_type": "markdown",
   "metadata": {},
   "source": [
    "fill Nan with most recent valid (non-Nan if you will) record"
   ]
  },
  {
   "cell_type": "code",
   "execution_count": 8,
   "metadata": {},
   "outputs": [],
   "source": [
    "df.fillna(method='ffill', inplace=True)"
   ]
  },
  {
   "cell_type": "markdown",
   "metadata": {},
   "source": [
    "are there still Nans?"
   ]
  },
  {
   "cell_type": "code",
   "execution_count": 9,
   "metadata": {},
   "outputs": [
    {
     "data": {
      "text/plain": [
       "close       0\n",
       "volume      0\n",
       "datetime    0\n",
       "dtype: int64"
      ]
     },
     "execution_count": 9,
     "metadata": {},
     "output_type": "execute_result"
    }
   ],
   "source": [
    "df.isnull().sum()"
   ]
  },
  {
   "cell_type": "markdown",
   "metadata": {},
   "source": [
    "good :-)"
   ]
  },
  {
   "cell_type": "markdown",
   "metadata": {},
   "source": [
    "### 2.2) add features"
   ]
  },
  {
   "cell_type": "markdown",
   "metadata": {},
   "source": [
    "add time columns"
   ]
  },
  {
   "cell_type": "code",
   "execution_count": 10,
   "metadata": {},
   "outputs": [],
   "source": [
    "common.add_times(df, 'datetime')"
   ]
  },
  {
   "cell_type": "code",
   "execution_count": 11,
   "metadata": {},
   "outputs": [
    {
     "data": {
      "text/html": [
       "<div>\n",
       "<style scoped>\n",
       "    .dataframe tbody tr th:only-of-type {\n",
       "        vertical-align: middle;\n",
       "    }\n",
       "\n",
       "    .dataframe tbody tr th {\n",
       "        vertical-align: top;\n",
       "    }\n",
       "\n",
       "    .dataframe thead th {\n",
       "        text-align: right;\n",
       "    }\n",
       "</style>\n",
       "<table border=\"1\" class=\"dataframe\">\n",
       "  <thead>\n",
       "    <tr style=\"text-align: right;\">\n",
       "      <th></th>\n",
       "      <th>0</th>\n",
       "      <th>1</th>\n",
       "      <th>2</th>\n",
       "      <th>3</th>\n",
       "      <th>4</th>\n",
       "    </tr>\n",
       "  </thead>\n",
       "  <tbody>\n",
       "    <tr>\n",
       "      <th>close</th>\n",
       "      <td>190.65</td>\n",
       "      <td>190.98</td>\n",
       "      <td>190.93</td>\n",
       "      <td>190.83</td>\n",
       "      <td>190.7</td>\n",
       "    </tr>\n",
       "    <tr>\n",
       "      <th>volume</th>\n",
       "      <td>4320</td>\n",
       "      <td>3246</td>\n",
       "      <td>2253</td>\n",
       "      <td>2241</td>\n",
       "      <td>1069</td>\n",
       "    </tr>\n",
       "    <tr>\n",
       "      <th>datetime</th>\n",
       "      <td>2019-04-01 09:30:00</td>\n",
       "      <td>2019-04-01 09:31:00</td>\n",
       "      <td>2019-04-01 09:32:00</td>\n",
       "      <td>2019-04-01 09:33:00</td>\n",
       "      <td>2019-04-01 09:34:00</td>\n",
       "    </tr>\n",
       "    <tr>\n",
       "      <th>minute</th>\n",
       "      <td>30</td>\n",
       "      <td>31</td>\n",
       "      <td>32</td>\n",
       "      <td>33</td>\n",
       "      <td>34</td>\n",
       "    </tr>\n",
       "    <tr>\n",
       "      <th>hour</th>\n",
       "      <td>9</td>\n",
       "      <td>9</td>\n",
       "      <td>9</td>\n",
       "      <td>9</td>\n",
       "      <td>9</td>\n",
       "    </tr>\n",
       "    <tr>\n",
       "      <th>day</th>\n",
       "      <td>1</td>\n",
       "      <td>1</td>\n",
       "      <td>1</td>\n",
       "      <td>1</td>\n",
       "      <td>1</td>\n",
       "    </tr>\n",
       "    <tr>\n",
       "      <th>month</th>\n",
       "      <td>4</td>\n",
       "      <td>4</td>\n",
       "      <td>4</td>\n",
       "      <td>4</td>\n",
       "      <td>4</td>\n",
       "    </tr>\n",
       "    <tr>\n",
       "      <th>minute_of_day</th>\n",
       "      <td>570</td>\n",
       "      <td>571</td>\n",
       "      <td>572</td>\n",
       "      <td>573</td>\n",
       "      <td>574</td>\n",
       "    </tr>\n",
       "    <tr>\n",
       "      <th>day_of_week</th>\n",
       "      <td>0</td>\n",
       "      <td>0</td>\n",
       "      <td>0</td>\n",
       "      <td>0</td>\n",
       "      <td>0</td>\n",
       "    </tr>\n",
       "  </tbody>\n",
       "</table>\n",
       "</div>"
      ],
      "text/plain": [
       "                                 0                    1                    2  \\\n",
       "close                       190.65               190.98               190.93   \n",
       "volume                        4320                 3246                 2253   \n",
       "datetime       2019-04-01 09:30:00  2019-04-01 09:31:00  2019-04-01 09:32:00   \n",
       "minute                          30                   31                   32   \n",
       "hour                             9                    9                    9   \n",
       "day                              1                    1                    1   \n",
       "month                            4                    4                    4   \n",
       "minute_of_day                  570                  571                  572   \n",
       "day_of_week                      0                    0                    0   \n",
       "\n",
       "                                 3                    4  \n",
       "close                       190.83                190.7  \n",
       "volume                        2241                 1069  \n",
       "datetime       2019-04-01 09:33:00  2019-04-01 09:34:00  \n",
       "minute                          33                   34  \n",
       "hour                             9                    9  \n",
       "day                              1                    1  \n",
       "month                            4                    4  \n",
       "minute_of_day                  573                  574  \n",
       "day_of_week                      0                    0  "
      ]
     },
     "execution_count": 11,
     "metadata": {},
     "output_type": "execute_result"
    }
   ],
   "source": [
    "df.head().transpose()"
   ]
  },
  {
   "cell_type": "markdown",
   "metadata": {},
   "source": [
    "calc different rocs"
   ]
  },
  {
   "cell_type": "code",
   "execution_count": 12,
   "metadata": {},
   "outputs": [],
   "source": [
    "roc_vals = [1,3,5]\n",
    "for val in roc_vals:\n",
    "    df['roc'+str(val)] = common.rate_of_change(df, 'close', val)"
   ]
  },
  {
   "cell_type": "code",
   "execution_count": 13,
   "metadata": {},
   "outputs": [
    {
     "data": {
      "text/html": [
       "<div>\n",
       "<style scoped>\n",
       "    .dataframe tbody tr th:only-of-type {\n",
       "        vertical-align: middle;\n",
       "    }\n",
       "\n",
       "    .dataframe tbody tr th {\n",
       "        vertical-align: top;\n",
       "    }\n",
       "\n",
       "    .dataframe thead th {\n",
       "        text-align: right;\n",
       "    }\n",
       "</style>\n",
       "<table border=\"1\" class=\"dataframe\">\n",
       "  <thead>\n",
       "    <tr style=\"text-align: right;\">\n",
       "      <th></th>\n",
       "      <th>0</th>\n",
       "      <th>1</th>\n",
       "      <th>2</th>\n",
       "      <th>3</th>\n",
       "      <th>4</th>\n",
       "      <th>5</th>\n",
       "    </tr>\n",
       "  </thead>\n",
       "  <tbody>\n",
       "    <tr>\n",
       "      <th>close</th>\n",
       "      <td>190.65</td>\n",
       "      <td>190.98</td>\n",
       "      <td>190.93</td>\n",
       "      <td>190.83</td>\n",
       "      <td>190.7</td>\n",
       "      <td>190.85</td>\n",
       "    </tr>\n",
       "    <tr>\n",
       "      <th>volume</th>\n",
       "      <td>4320</td>\n",
       "      <td>3246</td>\n",
       "      <td>2253</td>\n",
       "      <td>2241</td>\n",
       "      <td>1069</td>\n",
       "      <td>4878</td>\n",
       "    </tr>\n",
       "    <tr>\n",
       "      <th>datetime</th>\n",
       "      <td>2019-04-01 09:30:00</td>\n",
       "      <td>2019-04-01 09:31:00</td>\n",
       "      <td>2019-04-01 09:32:00</td>\n",
       "      <td>2019-04-01 09:33:00</td>\n",
       "      <td>2019-04-01 09:34:00</td>\n",
       "      <td>2019-04-01 09:35:00</td>\n",
       "    </tr>\n",
       "    <tr>\n",
       "      <th>minute</th>\n",
       "      <td>30</td>\n",
       "      <td>31</td>\n",
       "      <td>32</td>\n",
       "      <td>33</td>\n",
       "      <td>34</td>\n",
       "      <td>35</td>\n",
       "    </tr>\n",
       "    <tr>\n",
       "      <th>hour</th>\n",
       "      <td>9</td>\n",
       "      <td>9</td>\n",
       "      <td>9</td>\n",
       "      <td>9</td>\n",
       "      <td>9</td>\n",
       "      <td>9</td>\n",
       "    </tr>\n",
       "    <tr>\n",
       "      <th>day</th>\n",
       "      <td>1</td>\n",
       "      <td>1</td>\n",
       "      <td>1</td>\n",
       "      <td>1</td>\n",
       "      <td>1</td>\n",
       "      <td>1</td>\n",
       "    </tr>\n",
       "    <tr>\n",
       "      <th>month</th>\n",
       "      <td>4</td>\n",
       "      <td>4</td>\n",
       "      <td>4</td>\n",
       "      <td>4</td>\n",
       "      <td>4</td>\n",
       "      <td>4</td>\n",
       "    </tr>\n",
       "    <tr>\n",
       "      <th>minute_of_day</th>\n",
       "      <td>570</td>\n",
       "      <td>571</td>\n",
       "      <td>572</td>\n",
       "      <td>573</td>\n",
       "      <td>574</td>\n",
       "      <td>575</td>\n",
       "    </tr>\n",
       "    <tr>\n",
       "      <th>day_of_week</th>\n",
       "      <td>0</td>\n",
       "      <td>0</td>\n",
       "      <td>0</td>\n",
       "      <td>0</td>\n",
       "      <td>0</td>\n",
       "      <td>0</td>\n",
       "    </tr>\n",
       "    <tr>\n",
       "      <th>roc1</th>\n",
       "      <td>NaN</td>\n",
       "      <td>0.00173092</td>\n",
       "      <td>-0.000261808</td>\n",
       "      <td>-0.000523752</td>\n",
       "      <td>-0.000681235</td>\n",
       "      <td>0.000786576</td>\n",
       "    </tr>\n",
       "    <tr>\n",
       "      <th>roc3</th>\n",
       "      <td>NaN</td>\n",
       "      <td>NaN</td>\n",
       "      <td>NaN</td>\n",
       "      <td>0.000944138</td>\n",
       "      <td>-0.00146612</td>\n",
       "      <td>-0.000419002</td>\n",
       "    </tr>\n",
       "    <tr>\n",
       "      <th>roc5</th>\n",
       "      <td>NaN</td>\n",
       "      <td>NaN</td>\n",
       "      <td>NaN</td>\n",
       "      <td>NaN</td>\n",
       "      <td>NaN</td>\n",
       "      <td>0.00104904</td>\n",
       "    </tr>\n",
       "  </tbody>\n",
       "</table>\n",
       "</div>"
      ],
      "text/plain": [
       "                                 0                    1                    2  \\\n",
       "close                       190.65               190.98               190.93   \n",
       "volume                        4320                 3246                 2253   \n",
       "datetime       2019-04-01 09:30:00  2019-04-01 09:31:00  2019-04-01 09:32:00   \n",
       "minute                          30                   31                   32   \n",
       "hour                             9                    9                    9   \n",
       "day                              1                    1                    1   \n",
       "month                            4                    4                    4   \n",
       "minute_of_day                  570                  571                  572   \n",
       "day_of_week                      0                    0                    0   \n",
       "roc1                           NaN           0.00173092         -0.000261808   \n",
       "roc3                           NaN                  NaN                  NaN   \n",
       "roc5                           NaN                  NaN                  NaN   \n",
       "\n",
       "                                 3                    4                    5  \n",
       "close                       190.83                190.7               190.85  \n",
       "volume                        2241                 1069                 4878  \n",
       "datetime       2019-04-01 09:33:00  2019-04-01 09:34:00  2019-04-01 09:35:00  \n",
       "minute                          33                   34                   35  \n",
       "hour                             9                    9                    9  \n",
       "day                              1                    1                    1  \n",
       "month                            4                    4                    4  \n",
       "minute_of_day                  573                  574                  575  \n",
       "day_of_week                      0                    0                    0  \n",
       "roc1                  -0.000523752         -0.000681235          0.000786576  \n",
       "roc3                   0.000944138          -0.00146612         -0.000419002  \n",
       "roc5                           NaN                  NaN           0.00104904  "
      ]
     },
     "execution_count": 13,
     "metadata": {},
     "output_type": "execute_result"
    }
   ],
   "source": [
    "df.head(6).transpose()"
   ]
  },
  {
   "cell_type": "markdown",
   "metadata": {},
   "source": [
    "### 2.3) add target"
   ]
  },
  {
   "cell_type": "code",
   "execution_count": 14,
   "metadata": {},
   "outputs": [],
   "source": [
    "df['target'] = common.rate_of_change(df, 'close', -PREDICTION_SIZE)"
   ]
  },
  {
   "cell_type": "code",
   "execution_count": 15,
   "metadata": {},
   "outputs": [
    {
     "data": {
      "text/html": [
       "<div>\n",
       "<style scoped>\n",
       "    .dataframe tbody tr th:only-of-type {\n",
       "        vertical-align: middle;\n",
       "    }\n",
       "\n",
       "    .dataframe tbody tr th {\n",
       "        vertical-align: top;\n",
       "    }\n",
       "\n",
       "    .dataframe thead th {\n",
       "        text-align: right;\n",
       "    }\n",
       "</style>\n",
       "<table border=\"1\" class=\"dataframe\">\n",
       "  <thead>\n",
       "    <tr style=\"text-align: right;\">\n",
       "      <th></th>\n",
       "      <th>0</th>\n",
       "      <th>1</th>\n",
       "      <th>2</th>\n",
       "      <th>3</th>\n",
       "      <th>4</th>\n",
       "      <th>5</th>\n",
       "    </tr>\n",
       "  </thead>\n",
       "  <tbody>\n",
       "    <tr>\n",
       "      <th>close</th>\n",
       "      <td>190.65</td>\n",
       "      <td>190.98</td>\n",
       "      <td>190.93</td>\n",
       "      <td>190.83</td>\n",
       "      <td>190.7</td>\n",
       "      <td>190.85</td>\n",
       "    </tr>\n",
       "    <tr>\n",
       "      <th>volume</th>\n",
       "      <td>4320</td>\n",
       "      <td>3246</td>\n",
       "      <td>2253</td>\n",
       "      <td>2241</td>\n",
       "      <td>1069</td>\n",
       "      <td>4878</td>\n",
       "    </tr>\n",
       "    <tr>\n",
       "      <th>datetime</th>\n",
       "      <td>2019-04-01 09:30:00</td>\n",
       "      <td>2019-04-01 09:31:00</td>\n",
       "      <td>2019-04-01 09:32:00</td>\n",
       "      <td>2019-04-01 09:33:00</td>\n",
       "      <td>2019-04-01 09:34:00</td>\n",
       "      <td>2019-04-01 09:35:00</td>\n",
       "    </tr>\n",
       "    <tr>\n",
       "      <th>minute</th>\n",
       "      <td>30</td>\n",
       "      <td>31</td>\n",
       "      <td>32</td>\n",
       "      <td>33</td>\n",
       "      <td>34</td>\n",
       "      <td>35</td>\n",
       "    </tr>\n",
       "    <tr>\n",
       "      <th>hour</th>\n",
       "      <td>9</td>\n",
       "      <td>9</td>\n",
       "      <td>9</td>\n",
       "      <td>9</td>\n",
       "      <td>9</td>\n",
       "      <td>9</td>\n",
       "    </tr>\n",
       "    <tr>\n",
       "      <th>day</th>\n",
       "      <td>1</td>\n",
       "      <td>1</td>\n",
       "      <td>1</td>\n",
       "      <td>1</td>\n",
       "      <td>1</td>\n",
       "      <td>1</td>\n",
       "    </tr>\n",
       "    <tr>\n",
       "      <th>month</th>\n",
       "      <td>4</td>\n",
       "      <td>4</td>\n",
       "      <td>4</td>\n",
       "      <td>4</td>\n",
       "      <td>4</td>\n",
       "      <td>4</td>\n",
       "    </tr>\n",
       "    <tr>\n",
       "      <th>minute_of_day</th>\n",
       "      <td>570</td>\n",
       "      <td>571</td>\n",
       "      <td>572</td>\n",
       "      <td>573</td>\n",
       "      <td>574</td>\n",
       "      <td>575</td>\n",
       "    </tr>\n",
       "    <tr>\n",
       "      <th>day_of_week</th>\n",
       "      <td>0</td>\n",
       "      <td>0</td>\n",
       "      <td>0</td>\n",
       "      <td>0</td>\n",
       "      <td>0</td>\n",
       "      <td>0</td>\n",
       "    </tr>\n",
       "    <tr>\n",
       "      <th>roc1</th>\n",
       "      <td>NaN</td>\n",
       "      <td>0.00173092</td>\n",
       "      <td>-0.000261808</td>\n",
       "      <td>-0.000523752</td>\n",
       "      <td>-0.000681235</td>\n",
       "      <td>0.000786576</td>\n",
       "    </tr>\n",
       "    <tr>\n",
       "      <th>roc3</th>\n",
       "      <td>NaN</td>\n",
       "      <td>NaN</td>\n",
       "      <td>NaN</td>\n",
       "      <td>0.000944138</td>\n",
       "      <td>-0.00146612</td>\n",
       "      <td>-0.000419002</td>\n",
       "    </tr>\n",
       "    <tr>\n",
       "      <th>roc5</th>\n",
       "      <td>NaN</td>\n",
       "      <td>NaN</td>\n",
       "      <td>NaN</td>\n",
       "      <td>NaN</td>\n",
       "      <td>NaN</td>\n",
       "      <td>0.00104904</td>\n",
       "    </tr>\n",
       "    <tr>\n",
       "      <th>target</th>\n",
       "      <td>-0.00104794</td>\n",
       "      <td>0.0011008</td>\n",
       "      <td>0.00115358</td>\n",
       "      <td>0.00278508</td>\n",
       "      <td>0.00189135</td>\n",
       "      <td>0.00167953</td>\n",
       "    </tr>\n",
       "  </tbody>\n",
       "</table>\n",
       "</div>"
      ],
      "text/plain": [
       "                                 0                    1                    2  \\\n",
       "close                       190.65               190.98               190.93   \n",
       "volume                        4320                 3246                 2253   \n",
       "datetime       2019-04-01 09:30:00  2019-04-01 09:31:00  2019-04-01 09:32:00   \n",
       "minute                          30                   31                   32   \n",
       "hour                             9                    9                    9   \n",
       "day                              1                    1                    1   \n",
       "month                            4                    4                    4   \n",
       "minute_of_day                  570                  571                  572   \n",
       "day_of_week                      0                    0                    0   \n",
       "roc1                           NaN           0.00173092         -0.000261808   \n",
       "roc3                           NaN                  NaN                  NaN   \n",
       "roc5                           NaN                  NaN                  NaN   \n",
       "target                 -0.00104794            0.0011008           0.00115358   \n",
       "\n",
       "                                 3                    4                    5  \n",
       "close                       190.83                190.7               190.85  \n",
       "volume                        2241                 1069                 4878  \n",
       "datetime       2019-04-01 09:33:00  2019-04-01 09:34:00  2019-04-01 09:35:00  \n",
       "minute                          33                   34                   35  \n",
       "hour                             9                    9                    9  \n",
       "day                              1                    1                    1  \n",
       "month                            4                    4                    4  \n",
       "minute_of_day                  573                  574                  575  \n",
       "day_of_week                      0                    0                    0  \n",
       "roc1                  -0.000523752         -0.000681235          0.000786576  \n",
       "roc3                   0.000944138          -0.00146612         -0.000419002  \n",
       "roc5                           NaN                  NaN           0.00104904  \n",
       "target                  0.00278508           0.00189135           0.00167953  "
      ]
     },
     "execution_count": 15,
     "metadata": {},
     "output_type": "execute_result"
    }
   ],
   "source": [
    "df.head(6).transpose()"
   ]
  },
  {
   "cell_type": "markdown",
   "metadata": {},
   "source": [
    "### 2.4) final cleaning"
   ]
  },
  {
   "cell_type": "markdown",
   "metadata": {},
   "source": [
    "drop first 5 minutes of every day (so we wont use roc5 which been calculated on data from yesterday)"
   ]
  },
  {
   "cell_type": "code",
   "execution_count": 16,
   "metadata": {},
   "outputs": [],
   "source": [
    "df = df[df['minute_of_day'] >= 575]"
   ]
  },
  {
   "cell_type": "markdown",
   "metadata": {},
   "source": [
    "drop last 5 minutes in whole dataset (missing targets)"
   ]
  },
  {
   "cell_type": "code",
   "execution_count": 17,
   "metadata": {},
   "outputs": [],
   "source": [
    "df = df.iloc[:-PREDICTION_SIZE]"
   ]
  },
  {
   "cell_type": "code",
   "execution_count": 18,
   "metadata": {},
   "outputs": [
    {
     "data": {
      "text/html": [
       "<div>\n",
       "<style scoped>\n",
       "    .dataframe tbody tr th:only-of-type {\n",
       "        vertical-align: middle;\n",
       "    }\n",
       "\n",
       "    .dataframe tbody tr th {\n",
       "        vertical-align: top;\n",
       "    }\n",
       "\n",
       "    .dataframe thead th {\n",
       "        text-align: right;\n",
       "    }\n",
       "</style>\n",
       "<table border=\"1\" class=\"dataframe\">\n",
       "  <thead>\n",
       "    <tr style=\"text-align: right;\">\n",
       "      <th></th>\n",
       "      <th>105483</th>\n",
       "      <th>105484</th>\n",
       "      <th>105485</th>\n",
       "      <th>105486</th>\n",
       "      <th>105487</th>\n",
       "    </tr>\n",
       "  </thead>\n",
       "  <tbody>\n",
       "    <tr>\n",
       "      <th>close</th>\n",
       "      <td>309.79</td>\n",
       "      <td>309.82</td>\n",
       "      <td>309.93</td>\n",
       "      <td>309.98</td>\n",
       "      <td>310.13</td>\n",
       "    </tr>\n",
       "    <tr>\n",
       "      <th>volume</th>\n",
       "      <td>2024</td>\n",
       "      <td>861</td>\n",
       "      <td>825</td>\n",
       "      <td>1356</td>\n",
       "      <td>3673</td>\n",
       "    </tr>\n",
       "    <tr>\n",
       "      <th>datetime</th>\n",
       "      <td>2020-05-08 15:50:00</td>\n",
       "      <td>2020-05-08 15:51:00</td>\n",
       "      <td>2020-05-08 15:52:00</td>\n",
       "      <td>2020-05-08 15:53:00</td>\n",
       "      <td>2020-05-08 15:54:00</td>\n",
       "    </tr>\n",
       "    <tr>\n",
       "      <th>minute</th>\n",
       "      <td>50</td>\n",
       "      <td>51</td>\n",
       "      <td>52</td>\n",
       "      <td>53</td>\n",
       "      <td>54</td>\n",
       "    </tr>\n",
       "    <tr>\n",
       "      <th>hour</th>\n",
       "      <td>15</td>\n",
       "      <td>15</td>\n",
       "      <td>15</td>\n",
       "      <td>15</td>\n",
       "      <td>15</td>\n",
       "    </tr>\n",
       "    <tr>\n",
       "      <th>day</th>\n",
       "      <td>8</td>\n",
       "      <td>8</td>\n",
       "      <td>8</td>\n",
       "      <td>8</td>\n",
       "      <td>8</td>\n",
       "    </tr>\n",
       "    <tr>\n",
       "      <th>month</th>\n",
       "      <td>5</td>\n",
       "      <td>5</td>\n",
       "      <td>5</td>\n",
       "      <td>5</td>\n",
       "      <td>5</td>\n",
       "    </tr>\n",
       "    <tr>\n",
       "      <th>minute_of_day</th>\n",
       "      <td>950</td>\n",
       "      <td>951</td>\n",
       "      <td>952</td>\n",
       "      <td>953</td>\n",
       "      <td>954</td>\n",
       "    </tr>\n",
       "    <tr>\n",
       "      <th>day_of_week</th>\n",
       "      <td>4</td>\n",
       "      <td>4</td>\n",
       "      <td>4</td>\n",
       "      <td>4</td>\n",
       "      <td>4</td>\n",
       "    </tr>\n",
       "    <tr>\n",
       "      <th>roc1</th>\n",
       "      <td>-0.000612943</td>\n",
       "      <td>9.68398e-05</td>\n",
       "      <td>0.000355045</td>\n",
       "      <td>0.000161327</td>\n",
       "      <td>0.000483902</td>\n",
       "    </tr>\n",
       "    <tr>\n",
       "      <th>roc3</th>\n",
       "      <td>-0.000870799</td>\n",
       "      <td>-0.000322664</td>\n",
       "      <td>-0.000161301</td>\n",
       "      <td>0.000613319</td>\n",
       "      <td>0.00100058</td>\n",
       "    </tr>\n",
       "    <tr>\n",
       "      <th>roc5</th>\n",
       "      <td>-0.000354953</td>\n",
       "      <td>-0.000967367</td>\n",
       "      <td>-0.000419274</td>\n",
       "      <td>0.000193598</td>\n",
       "      <td>0.000483902</td>\n",
       "    </tr>\n",
       "    <tr>\n",
       "      <th>target</th>\n",
       "      <td>-0.00132173</td>\n",
       "      <td>-0.000838493</td>\n",
       "      <td>-0.000145173</td>\n",
       "      <td>4.83926e-05</td>\n",
       "      <td>0.000225763</td>\n",
       "    </tr>\n",
       "  </tbody>\n",
       "</table>\n",
       "</div>"
      ],
      "text/plain": [
       "                            105483               105484               105485  \\\n",
       "close                       309.79               309.82               309.93   \n",
       "volume                        2024                  861                  825   \n",
       "datetime       2020-05-08 15:50:00  2020-05-08 15:51:00  2020-05-08 15:52:00   \n",
       "minute                          50                   51                   52   \n",
       "hour                            15                   15                   15   \n",
       "day                              8                    8                    8   \n",
       "month                            5                    5                    5   \n",
       "minute_of_day                  950                  951                  952   \n",
       "day_of_week                      4                    4                    4   \n",
       "roc1                  -0.000612943          9.68398e-05          0.000355045   \n",
       "roc3                  -0.000870799         -0.000322664         -0.000161301   \n",
       "roc5                  -0.000354953         -0.000967367         -0.000419274   \n",
       "target                 -0.00132173         -0.000838493         -0.000145173   \n",
       "\n",
       "                            105486               105487  \n",
       "close                       309.98               310.13  \n",
       "volume                        1356                 3673  \n",
       "datetime       2020-05-08 15:53:00  2020-05-08 15:54:00  \n",
       "minute                          53                   54  \n",
       "hour                            15                   15  \n",
       "day                              8                    8  \n",
       "month                            5                    5  \n",
       "minute_of_day                  953                  954  \n",
       "day_of_week                      4                    4  \n",
       "roc1                   0.000161327          0.000483902  \n",
       "roc3                   0.000613319           0.00100058  \n",
       "roc5                   0.000193598          0.000483902  \n",
       "target                 4.83926e-05          0.000225763  "
      ]
     },
     "execution_count": 18,
     "metadata": {},
     "output_type": "execute_result"
    }
   ],
   "source": [
    "df.tail().transpose()"
   ]
  },
  {
   "cell_type": "markdown",
   "metadata": {},
   "source": [
    "drop datetime - as some models cant deal with this datatype"
   ]
  },
  {
   "cell_type": "code",
   "execution_count": 19,
   "metadata": {},
   "outputs": [],
   "source": [
    "df.drop(columns=['datetime'], inplace=True)"
   ]
  },
  {
   "cell_type": "markdown",
   "metadata": {},
   "source": [
    "## 3) modeling"
   ]
  },
  {
   "cell_type": "markdown",
   "metadata": {},
   "source": [
    "how much data we have?"
   ]
  },
  {
   "cell_type": "code",
   "execution_count": 20,
   "metadata": {},
   "outputs": [
    {
     "data": {
      "text/plain": [
       "104123"
      ]
     },
     "execution_count": 20,
     "metadata": {},
     "output_type": "execute_result"
    }
   ],
   "source": [
    "len(df)"
   ]
  },
  {
   "cell_type": "markdown",
   "metadata": {},
   "source": [
    "### 3.1) splitting data into training, validation, and test sets"
   ]
  },
  {
   "cell_type": "code",
   "execution_count": 21,
   "metadata": {},
   "outputs": [
    {
     "data": {
      "text/plain": [
       "<matplotlib.axes._subplots.AxesSubplot at 0x283b9b19b70>"
      ]
     },
     "execution_count": 21,
     "metadata": {},
     "output_type": "execute_result"
    },
    {
     "data": {
      "image/png": "[encoded data removed]",
      "text/plain": [
       "<Figure size 432x288 with 1 Axes>"
      ]
     },
     "metadata": {
      "needs_background": "light"
     },
     "output_type": "display_data"
    }
   ],
   "source": [
    "df['close'].plot()"
   ]
  },
  {
   "cell_type": "markdown",
   "metadata": {},
   "source": [
    "splitting the data a little before the corona pandemic."
   ]
  },
  {
   "cell_type": "code",
   "execution_count": 22,
   "metadata": {},
   "outputs": [],
   "source": [
    "split_point = 70000\n",
    "train_df = df.iloc[:split_point]\n",
    "test_df = df.iloc[split_point:]"
   ]
  },
  {
   "cell_type": "code",
   "execution_count": 23,
   "metadata": {},
   "outputs": [
    {
     "data": {
      "text/plain": [
       "close            291.440000\n",
       "volume           163.000000\n",
       "minute             3.000000\n",
       "hour              11.000000\n",
       "day               31.000000\n",
       "month             12.000000\n",
       "minute_of_day    663.000000\n",
       "day_of_week        1.000000\n",
       "roc1               0.000275\n",
       "roc3               0.000859\n",
       "roc5               0.000773\n",
       "target            -0.001644\n",
       "Name: 70920, dtype: float64"
      ]
     },
     "execution_count": 23,
     "metadata": {},
     "output_type": "execute_result"
    }
   ],
   "source": [
    "df.iloc[split_point]"
   ]
  },
  {
   "cell_type": "markdown",
   "metadata": {},
   "source": [
    "percentange wise:"
   ]
  },
  {
   "cell_type": "code",
   "execution_count": 24,
   "metadata": {},
   "outputs": [
    {
     "name": "stdout",
     "output_type": "stream",
     "text": [
      "train_df = 0.67\n",
      "test_df = 0.33\n"
     ]
    }
   ],
   "source": [
    "print(f\"train_df = {len(train_df) / len(df):.2f}\")\n",
    "print(f\"test_df = {len(test_df) / len(df):.2f}\")"
   ]
  },
  {
   "cell_type": "markdown",
   "metadata": {},
   "source": [
    "### 3.2) evaluation metric\n",
    "continuing the stupid simple spirit - i use MSE"
   ]
  },
  {
   "cell_type": "markdown",
   "metadata": {},
   "source": [
    "### 3.3) baseline\n",
    "baseline model will be a model which predict the current roc5 to be the next 5 minutes roc5 (target) <br/>\n",
    "it is probably a terrible model - with little to no predictive value. <br/>\n",
    "need to think of a way to measure that."
   ]
  },
  {
   "cell_type": "code",
   "execution_count": 25,
   "metadata": {},
   "outputs": [
    {
     "data": {
      "text/plain": [
       "4.7355247913895315e-06"
      ]
     },
     "execution_count": 25,
     "metadata": {},
     "output_type": "execute_result"
    }
   ],
   "source": [
    "mean_squared_error(train_df['target'], train_df['roc5'])"
   ]
  },
  {
   "cell_type": "code",
   "execution_count": 26,
   "metadata": {},
   "outputs": [
    {
     "data": {
      "text/plain": [
       "2.4231574324765553e-05"
      ]
     },
     "execution_count": 26,
     "metadata": {},
     "output_type": "execute_result"
    }
   ],
   "source": [
    "mean_squared_error(test_df['target'], test_df['roc5'])"
   ]
  },
  {
   "cell_type": "markdown",
   "metadata": {},
   "source": [
    "### 3.4) random forest"
   ]
  },
  {
   "cell_type": "markdown",
   "metadata": {},
   "source": [
    "at first, i use simple 10 trees forest"
   ]
  },
  {
   "cell_type": "code",
   "execution_count": 27,
   "metadata": {},
   "outputs": [],
   "source": [
    "train_features = train_df.drop(columns=['target'])"
   ]
  },
  {
   "cell_type": "code",
   "execution_count": 28,
   "metadata": {},
   "outputs": [
    {
     "name": "stdout",
     "output_type": "stream",
     "text": [
      "Wall time: 1.32 s\n"
     ]
    },
    {
     "data": {
      "text/plain": [
       "RandomForestRegressor(bootstrap=True, criterion='mse', max_depth=5,\n",
       "           max_features='auto', max_leaf_nodes=None,\n",
       "           min_impurity_decrease=0.0, min_impurity_split=None,\n",
       "           min_samples_leaf=1, min_samples_split=2,\n",
       "           min_weight_fraction_leaf=0.0, n_estimators=10, n_jobs=-1,\n",
       "           oob_score=False, random_state=1, verbose=0, warm_start=False)"
      ]
     },
     "execution_count": 28,
     "metadata": {},
     "output_type": "execute_result"
    }
   ],
   "source": [
    "m_forest = RandomForestRegressor(n_estimators=10, n_jobs=-1, max_depth=5, random_state=1)\n",
    "%time m_forest.fit(train_features, train_df['target'])"
   ]
  },
  {
   "cell_type": "code",
   "execution_count": 29,
   "metadata": {},
   "outputs": [
    {
     "data": {
      "text/plain": [
       "2.2959045938132926e-06"
      ]
     },
     "execution_count": 29,
     "metadata": {},
     "output_type": "execute_result"
    }
   ],
   "source": [
    "mean_squared_error(train_df['target'], m_forest.predict(train_features))"
   ]
  },
  {
   "cell_type": "code",
   "execution_count": 30,
   "metadata": {},
   "outputs": [
    {
     "data": {
      "text/plain": [
       "1.8180524324988743e-05"
      ]
     },
     "execution_count": 30,
     "metadata": {},
     "output_type": "execute_result"
    }
   ],
   "source": [
    "mean_squared_error(test_df['target'],\n",
    "                   m_forest.predict(test_df.drop(columns=['target'])))"
   ]
  },
  {
   "cell_type": "markdown",
   "metadata": {},
   "source": [
    "good results? <br/>\n",
    "at least not worst than the baseline <br/>\n",
    "note - in both models, training error > validation error - wierd"
   ]
  },
  {
   "cell_type": "markdown",
   "metadata": {},
   "source": [
    "### 3.4) MLP"
   ]
  },
  {
   "cell_type": "code",
   "execution_count": 32,
   "metadata": {},
   "outputs": [
    {
     "name": "stdout",
     "output_type": "stream",
     "text": [
      "Wall time: 28.4 s\n"
     ]
    },
    {
     "data": {
      "text/plain": [
       "MLPRegressor(activation='logistic', alpha=0.0001, batch_size='auto',\n",
       "       beta_1=0.9, beta_2=0.999, early_stopping=False, epsilon=1e-08,\n",
       "       hidden_layer_sizes=(20, 20, 20, 20, 20, 20, 20, 20, 20, 20, 20, 20, 20, 20, 20, 20, 20, 20, 20, 20),\n",
       "       learning_rate='constant', learning_rate_init=0.001, max_iter=200,\n",
       "       momentum=0.9, n_iter_no_change=10, nesterovs_momentum=True,\n",
       "       power_t=0.5, random_state=1, shuffle=True, solver='adam',\n",
       "       tol=0.0001, validation_fraction=0.1, verbose=False,\n",
       "       warm_start=False)"
      ]
     },
     "execution_count": 32,
     "metadata": {},
     "output_type": "execute_result"
    }
   ],
   "source": [
    "m_mlp = MLPRegressor(hidden_layer_sizes=tuple([20 for _ in range(20)]), \n",
    "                     random_state=1,\n",
    "                     activation='logistic')\n",
    "%time m_mlp.fit(train_features, train_df['target'])"
   ]
  },
  {
   "cell_type": "code",
   "execution_count": 33,
   "metadata": {},
   "outputs": [
    {
     "data": {
      "text/plain": [
       "3.383756360838726e-06"
      ]
     },
     "execution_count": 33,
     "metadata": {},
     "output_type": "execute_result"
    }
   ],
   "source": [
    "mean_squared_error(train_df['target'], m_mlp.predict(train_features))"
   ]
  },
  {
   "cell_type": "code",
   "execution_count": 34,
   "metadata": {},
   "outputs": [
    {
     "data": {
      "text/plain": [
       "1.743965240603901e-05"
      ]
     },
     "execution_count": 34,
     "metadata": {},
     "output_type": "execute_result"
    }
   ],
   "source": [
    "mean_squared_error(test_df['target'],\n",
    "                   m_mlp.predict(test_df.drop(columns=['target'])))"
   ]
  },
  {
   "cell_type": "markdown",
   "metadata": {},
   "source": [
    "random forest > MLP in sample, <br/>\n",
    "random forest < MLP out of sample.\n",
    "\n",
    "thinking face"
   ]
  },
  {
   "cell_type": "markdown",
   "metadata": {},
   "source": [
    "calculate PnL"
   ]
  },
  {
   "cell_type": "code",
   "execution_count": 35,
   "metadata": {},
   "outputs": [
    {
     "name": "stdout",
     "output_type": "stream",
     "text": [
      " PnL forest = 7.557481707322778e-05\n",
      " PnL MLP    = -2.380681515183821e-05\n"
     ]
    }
   ],
   "source": [
    "print(f\" PnL forest = {common.rate_of_change_PL(m_forest.predict(train_features), train_df['target']).mean()}\")\n",
    "print(f\" PnL MLP    = {common.rate_of_change_PL(m_mlp.predict(train_features), train_df['target']).mean()}\")"
   ]
  },
  {
   "cell_type": "code",
   "execution_count": 36,
   "metadata": {
    "scrolled": true
   },
   "outputs": [
    {
     "name": "stdout",
     "output_type": "stream",
     "text": [
      " PnL forest = -5.934871068251125e-05\n",
      " PnL MLP    = -1.933951081108136e-06\n"
     ]
    }
   ],
   "source": [
    "print(f\" PnL forest = {common.rate_of_change_PL(m_forest.predict(test_df.drop(columns=['target'])), test_df['target']).mean()}\")\n",
    "print(f\" PnL MLP    = {common.rate_of_change_PL(m_mlp.predict(test_df.drop(columns=['target'])), test_df['target']).mean()}\")"
   ]
  },
  {
   "cell_type": "markdown",
   "metadata": {},
   "source": [
    "lossing money :("
   ]
  }
 ],
 "metadata": {
  "kernelspec": {
   "display_name": "Python 3",
   "language": "python",
   "name": "python3"
  },
  "language_info": {
   "codemirror_mode": {
    "name": "ipython",
    "version": 3
   },
   "file_extension": ".py",
   "mimetype": "text/x-python",
   "name": "python",
   "nbconvert_exporter": "python",
   "pygments_lexer": "ipython3",
   "version": "3.7.1"
  }
 },
 "nbformat": 4,
 "nbformat_minor": 2
}
