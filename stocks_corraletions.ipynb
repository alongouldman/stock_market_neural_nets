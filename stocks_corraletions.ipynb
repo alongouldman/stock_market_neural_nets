{
 "cells": [
  {
   "cell_type": "code",
   "execution_count": null,
   "metadata": {
    "colab": {
     "base_uri": "https://localhost:8080/",
     "height": 34
    },
    "colab_type": "code",
    "id": "vsMiQeN08VUE",
    "outputId": "6a3afc4d-8c12-478f-d48a-fab32ee0edcb"
   },
   "outputs": [],
   "source": [
    "import pandas as pd\n",
    "import matplotlib.pyplot as plt\n",
    "import datetime\n",
    "import numpy as np\n",
    "import plotly.graph_objects as go\n",
    "from typing import Tuple, Optional, NamedTuple, Any, List\n",
    "from sklearn.model_selection import train_test_split\n",
    "import plotly.graph_objects as go\n",
    "from pathlib import Path\n",
    "import common\n",
    "import numpy\n",
    "from keras.models import Sequential\n",
    "from keras.layers import Dense\n",
    "from keras.layers import Dropout\n",
    "from keras.layers import LSTM\n",
    "from keras.callbacks import ModelCheckpoint\n",
    "from keras.utils import np_utils\n",
    "from sklearn.neural_network import MLPRegressor\n",
    "from sklearn.metrics import mean_squared_error\n",
    "import seaborn"
   ]
  },
  {
   "cell_type": "markdown",
   "metadata": {},
   "source": [
    "# Plan:\n",
    "\n",
    "1. add all stocks data together into ine dataframe\n",
    "2. save into csv\n",
    "3. calculate correlations between pairs of stocks"
   ]
  },
  {
   "cell_type": "code",
   "execution_count": null,
   "metadata": {},
   "outputs": [],
   "source": [
    "\n",
    "def get_relevant_data(ticker): \n",
    "    return common.get_stock_data(ticker, columns=['date','minute', 'close'])\n",
    "    \n",
    "\n",
    "def preprocess_data(dataframe: pd.DataFrame) -> pd.DataFrame:\n",
    "    dataframe['datetime'] = dataframe['date'] + \",\" + dataframe['minute']\n",
    "    dataframe['datetime'] = pd.to_datetime(dataframe['datetime'], format='%Y-%m-%d,%H:%M')\n",
    "    del dataframe['date']\n",
    "    dataframe = dataframe.sort_values(by=['datetime']).reset_index(drop=True)\n",
    "    \n",
    "    del dataframe['minute']\n",
    "    dataframe.set_index('datetime', inplace=True)\n",
    "    return dataframe\n",
    "\n"
   ]
  },
  {
   "cell_type": "code",
   "execution_count": null,
   "metadata": {},
   "outputs": [],
   "source": [
    "all_snp_stocks = [i.stem for i in Path('data/relevant/snp500_from_iex').iterdir()]\n",
    "first_ticker = all_snp_stocks[0]\n",
    "main_df = get_relevant_data(first_ticker)\n",
    "main_df = preprocess_data(main_df)\n",
    "main_df.rename(columns={'close': first_ticker}, inplace=True)\n",
    "\n",
    "\n",
    "for ticker in all_snp_stocks[1:]:\n",
    "    df = get_relevant_data(ticker)\n",
    "    if df is None:\n",
    "        continue\n",
    "    df = preprocess_data(df)\n",
    "    df.rename(columns={'close': ticker}, inplace=True)\n",
    "    main_df = main_df.merge(df, on='datetime', how=\"outer\", copy=False)\n",
    "    print(f\"ticker {ticker} added\")\n",
    "    \n",
    "main_df"
   ]
  },
  {
   "cell_type": "code",
   "execution_count": null,
   "metadata": {},
   "outputs": [],
   "source": [
    "kendall_correlations = main_df.corr(method='kendall')\n",
    "kendall_correlations"
   ]
  },
  {
   "cell_type": "code",
   "execution_count": null,
   "metadata": {},
   "outputs": [],
   "source": [
    "kendall_correlations.to_csv(\"kendall_correlations_of_all_stocks.csv\")"
   ]
  },
  {
   "cell_type": "code",
   "execution_count": null,
   "metadata": {},
   "outputs": [],
   "source": [
    "kendall_correlations = pd.read_csv(\"kendall_correlations_of_all_stocks.csv\")\n",
    "kendall_correlations = kendall_correlations.set_index(\"Unnamed: 0\", drop=True)\n",
    "kendall_correlations.index = kendall_correlations.index.rename(\"\")\n",
    "kendall_correlations"
   ]
  },
  {
   "cell_type": "code",
   "execution_count": null,
   "metadata": {},
   "outputs": [],
   "source": [
    "mask = np.zeros_like(kendall_correlations)\n",
    "mask[np.triu_indices_from(mask)] = True\n",
    "\n",
    "# generate plot\n",
    "seaborn.heatmap(kendall_correlations, cmap='RdYlGn', vmax=1.0,\n",
    "                vmin=-1.0, mask=mask, linewidths=2.5)\n",
    "plt.yticks(rotation=0)\n",
    "plt.xticks(rotation=90)\n",
    "plt.show()"
   ]
  },
  {
   "cell_type": "code",
   "execution_count": null,
   "metadata": {},
   "outputs": [],
   "source": [
    "import plotly.express as px\n",
    "\n",
    "fig = px.imshow(kendall_correlations.values)\n",
    "fig.show()"
   ]
  },
  {
   "cell_type": "code",
   "execution_count": null,
   "metadata": {},
   "outputs": [],
   "source": [
    "kendall_correlations.abs().unstack().sort_values(ascending = False)\n",
    "\n",
    "# kendall_correlations.corr().unstack().sort_values().drop_duplicates()\n"
   ]
  },
  {
   "cell_type": "code",
   "execution_count": null,
   "metadata": {},
   "outputs": [],
   "source": [
    "def get_redundant_pairs(df):\n",
    "    '''Get diagonal and lower triangular pairs of correlation matrix'''\n",
    "    pairs_to_drop = set()\n",
    "    cols = df.columns\n",
    "    for i in range(0, df.shape[1]):\n",
    "        for j in range(0, i+1):\n",
    "            pairs_to_drop.add((cols[i], cols[j]))\n",
    "    return pairs_to_drop\n",
    "\n",
    "def get_top_abs_correlations(df, n=5):\n",
    "    au_corr = df.abs().unstack()\n",
    "    labels_to_drop = get_redundant_pairs(df)\n",
    "    au_corr = au_corr.drop(labels=labels_to_drop).sort_values(ascending=False)\n",
    "    return au_corr[0:n]\n",
    "\n",
    "\n",
    "get_top_abs_correlations(kendall_correlations, 50)"
   ]
  },
  {
   "cell_type": "code",
   "execution_count": null,
   "metadata": {},
   "outputs": [],
   "source": [
    "main_df"
   ]
  },
  {
   "cell_type": "code",
   "execution_count": null,
   "metadata": {},
   "outputs": [],
   "source": [
    "goog_data = get_relevant_data('GOOG')\n",
    "goog_data = preprocess_data(goog_data)\n",
    "goog_data.plot()\n",
    "\n",
    "googl_data = get_relevant_data('GOOGL')\n",
    "googl_data = preprocess_data(googl_data)\n",
    "googl_data.plot()"
   ]
  },
  {
   "cell_type": "code",
   "execution_count": null,
   "metadata": {},
   "outputs": [],
   "source": [
    "import plotly.graph_objects as go\n",
    "\n",
    "fig = go.Figure()\n",
    "fig.add_trace(go.Scatter(y=goog_data['close'], x=goog_data.index,\n",
    "                    mode='lines',\n",
    "                    name='goog'))\n",
    "fig.add_trace(go.Scatter(y=googl_data['close'], x=googl_data.index,\n",
    "                    mode='lines',\n",
    "                    name='googl'))\n",
    "\n",
    "fig.show()"
   ]
  },
  {
   "cell_type": "code",
   "execution_count": null,
   "metadata": {},
   "outputs": [],
   "source": [
    "def drow_stocks(*tickers):\n",
    "    fig = go.Figure()\n",
    "    for ticker in tickers:\n",
    "        data = get_relevant_data(ticker)\n",
    "        data = preprocess_data(data)\n",
    "        fig.add_trace(go.Scatter(y=data['close'], x=data.index,\n",
    "                    mode='lines',\n",
    "                    name=ticker))\n",
    "\n",
    "    fig.show()\n",
    "    \n",
    "    \n",
    "drow_stocks('V', 'MA')"
   ]
  },
  {
   "cell_type": "code",
   "execution_count": null,
   "metadata": {},
   "outputs": [],
   "source": [
    "drow_stocks('GL', 'AMP')"
   ]
  },
  {
   "cell_type": "code",
   "execution_count": null,
   "metadata": {},
   "outputs": [],
   "source": [
    "drow_stocks('DVN', 'EOG')"
   ]
  },
  {
   "cell_type": "code",
   "execution_count": null,
   "metadata": {},
   "outputs": [],
   "source": [
    "drow_stocks('C', 'SWK')"
   ]
  },
  {
   "cell_type": "code",
   "execution_count": null,
   "metadata": {},
   "outputs": [],
   "source": []
  }
 ],
 "metadata": {
  "accelerator": "GPU",
  "colab": {
   "name": "alon_second_attempt.ipynb",
   "provenance": []
  },
  "kernelspec": {
   "display_name": "data_science",
   "language": "python",
   "name": "data_science"
  },
  "language_info": {
   "codemirror_mode": {
    "name": "ipython",
    "version": 3
   },
   "file_extension": ".py",
   "mimetype": "text/x-python",
   "name": "python",
   "nbconvert_exporter": "python",
   "pygments_lexer": "ipython3",
   "version": "3.7.7"
  }
 },
 "nbformat": 4,
 "nbformat_minor": 1
}
