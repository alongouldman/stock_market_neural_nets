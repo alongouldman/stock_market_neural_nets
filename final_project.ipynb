{
 "cells": [
  {
   "cell_type": "code",
   "execution_count": null,
   "metadata": {},
   "outputs": [],
   "source": [
    "stocks to predict\n",
    "V\n",
    "AAPL\n",
    "GOOGL\n",
    "JNJ\n",
    "AMZN\n",
    "XOM\n",
    "JPM\n",
    "KO\n",
    "WMT\n",
    "MSFT"
   ]
  },
  {
   "cell_type": "markdown",
   "metadata": {},
   "source": [
    "# PLAN\n",
    "\n",
    "1. Run the regular RandomForests - get some results. \n",
    "2. Try to run the same data, but with encoder, and then run RF and hope for better results\n",
    "3. Try to add other stocks data and extrace featurs from the data. \n",
    "    * evaluate on model/s\n",
    "4. try image processing to the past prices\n",
    "    * evaluate on model/s\n",
    "\n",
    "\n",
    "## Target\n",
    "\n",
    "the target of the project is to get the ROC - the rate of change in the stock. \n",
    "\n",
    "\n",
    "## TODO:\n",
    "\n",
    "ASAF\n",
    "- ecnoder:\n",
    "    - try getting OHLCV instead of just close\n",
    "    - exponential window\n",
    "- check dukas - all 10 stocks has +- 3 years long data\n",
    "\n",
    "ALON\n",
    "- [X] seperate all the data into train/val/test in the data itself - save in different folders. 1.12.2019 - start od test; 1.3.2019 - start of validation set\n",
    "- ask in group & research about a good & easy way to find 10 best stock to predict each stock.\n",
    "\n"
   ]
  },
  {
   "cell_type": "code",
   "execution_count": 5,
   "metadata": {},
   "outputs": [
    {
     "data": {
      "text/plain": [
       "pandas.core.frame.DataFrame"
      ]
     },
     "execution_count": 5,
     "metadata": {},
     "output_type": "execute_result"
    }
   ],
   "source": [
    "import pandas as pd\n",
    "\n",
    "        \n",
    "\n",
    "class LabeledDataFrame:\n",
    "    def __init__(self, df, target_col: str):\n",
    "        self._df = df\n",
    "        self._target = target_col\n",
    "        \n",
    "    def __getattr__(self, attr):\n",
    "        return getattr(self._df, attr)\n",
    "    \n",
    "    def __setitem__(self, key, value):\n",
    "        return setattr(self._df, key, value)\n",
    "    \n",
    "    def __getitem__(self, key):\n",
    "        return self._df[key]\n",
    "    \n",
    "    @property\n",
    "    def y(self):\n",
    "        return self._df[self._target]\n",
    "    \n",
    "    @y.setter\n",
    "    def y(self, value):\n",
    "        self._df[self._target] = value\n",
    "    \n",
    "    @property\n",
    "    def X(self):\n",
    "        return 4\n",
    "    \n",
    "\n",
    "df = pd.DataFrame({\n",
    "    'a': range(10),\n",
    "    'b': range(10)\n",
    "})\n",
    "df\n",
    "a = LabeledDataFrame(df, 'b')\n",
    "a.min()\n",
    "a.y\n",
    "a['b'] = range(5, 15)\n",
    "a['b']\n",
    "a.y = range(10)\n",
    "a._df\n",
    "a.aah = 8\n",
    "type(a[5:])\n"
   ]
  },
  {
   "cell_type": "code",
   "execution_count": 30,
   "metadata": {},
   "outputs": [
    {
     "data": {
      "text/plain": [
       "0    0\n",
       "1    1\n",
       "2    2\n",
       "3    3\n",
       "4    4\n",
       "5    5\n",
       "6    6\n",
       "7    7\n",
       "8    8\n",
       "9    9\n",
       "Name: a, dtype: int64"
      ]
     },
     "execution_count": 30,
     "metadata": {},
     "output_type": "execute_result"
    }
   ],
   "source": [
    "df.X = df['a']\n",
    "df.X\n",
    "# df.y --> df['taget']\n",
    "# df.X --> df-target\n"
   ]
  },
  {
   "cell_type": "code",
   "execution_count": null,
   "metadata": {},
   "outputs": [],
   "source": []
  }
 ],
 "metadata": {
  "kernelspec": {
   "display_name": "Python 3",
   "language": "python",
   "name": "python3"
  },
  "language_info": {
   "codemirror_mode": {
    "name": "ipython",
    "version": 3
   },
   "file_extension": ".py",
   "mimetype": "text/x-python",
   "name": "python",
   "nbconvert_exporter": "python",
   "pygments_lexer": "ipython3",
   "version": "3.6.8"
  }
 },
 "nbformat": 4,
 "nbformat_minor": 4
}
