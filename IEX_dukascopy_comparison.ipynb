{
 "cells": [
  {
   "cell_type": "markdown",
   "metadata": {},
   "source": [
    "# comparing IEX 1 year data vs dukascopy 3 year data"
   ]
  },
  {
   "cell_type": "code",
   "execution_count": 1,
   "metadata": {},
   "outputs": [],
   "source": [
    "import common\n",
    "import numpy as np\n",
    "import pandas as pd"
   ]
  },
  {
   "cell_type": "code",
   "execution_count": 2,
   "metadata": {},
   "outputs": [],
   "source": [
    "# inputs\n",
    "iex_path = r\"C:\\Users\\asaf\\Desktop\\DS_workshop-project\\stock_market_neural_nets\\data\\relevant\\snp500_from_iex\\AAPL.csv\"\n",
    "dukas_path = r\"C:\\Users\\asaf\\Desktop\\DS_workshop-project\\stock_market_neural_nets\\data\\relevant\\dukascopy\\BID\\AAPL.csv\""
   ]
  },
  {
   "cell_type": "markdown",
   "metadata": {},
   "source": [
    "## 1) getting data"
   ]
  },
  {
   "cell_type": "markdown",
   "metadata": {},
   "source": [
    "### 1.1) get IEX data"
   ]
  },
  {
   "cell_type": "code",
   "execution_count": 3,
   "metadata": {},
   "outputs": [],
   "source": [
    "iex_data = pd.read_csv(iex_path)\n",
    "common.minimal_IEX_preprocessing(iex_data)\n",
    "del iex_data['numberOfTrades'], iex_data['notional'], iex_data['average']\n",
    "iex_data.set_index(\"datetime\", inplace=True)\n",
    "iex_data.sort_index(inplace=True)"
   ]
  },
  {
   "cell_type": "code",
   "execution_count": 4,
   "metadata": {},
   "outputs": [],
   "source": [
    "# drop nans\n",
    "iex_data = iex_data.dropna()"
   ]
  },
  {
   "cell_type": "code",
   "execution_count": 5,
   "metadata": {},
   "outputs": [
    {
     "data": {
      "text/html": [
       "<div>\n",
       "<style scoped>\n",
       "    .dataframe tbody tr th:only-of-type {\n",
       "        vertical-align: middle;\n",
       "    }\n",
       "\n",
       "    .dataframe tbody tr th {\n",
       "        vertical-align: top;\n",
       "    }\n",
       "\n",
       "    .dataframe thead th {\n",
       "        text-align: right;\n",
       "    }\n",
       "</style>\n",
       "<table border=\"1\" class=\"dataframe\">\n",
       "  <thead>\n",
       "    <tr style=\"text-align: right;\">\n",
       "      <th></th>\n",
       "      <th>high</th>\n",
       "      <th>low</th>\n",
       "      <th>open</th>\n",
       "      <th>close</th>\n",
       "      <th>volume</th>\n",
       "    </tr>\n",
       "    <tr>\n",
       "      <th>datetime</th>\n",
       "      <th></th>\n",
       "      <th></th>\n",
       "      <th></th>\n",
       "      <th></th>\n",
       "      <th></th>\n",
       "    </tr>\n",
       "  </thead>\n",
       "  <tbody>\n",
       "    <tr>\n",
       "      <th>2019-04-01 09:30:00</th>\n",
       "      <td>191.645</td>\n",
       "      <td>190.60</td>\n",
       "      <td>191.645</td>\n",
       "      <td>190.65</td>\n",
       "      <td>4320.0</td>\n",
       "    </tr>\n",
       "    <tr>\n",
       "      <th>2019-04-01 09:31:00</th>\n",
       "      <td>190.980</td>\n",
       "      <td>190.64</td>\n",
       "      <td>190.700</td>\n",
       "      <td>190.98</td>\n",
       "      <td>3246.0</td>\n",
       "    </tr>\n",
       "    <tr>\n",
       "      <th>2019-04-01 09:32:00</th>\n",
       "      <td>191.090</td>\n",
       "      <td>190.78</td>\n",
       "      <td>191.060</td>\n",
       "      <td>190.93</td>\n",
       "      <td>2253.0</td>\n",
       "    </tr>\n",
       "    <tr>\n",
       "      <th>2019-04-01 09:33:00</th>\n",
       "      <td>191.010</td>\n",
       "      <td>190.76</td>\n",
       "      <td>190.980</td>\n",
       "      <td>190.83</td>\n",
       "      <td>2241.0</td>\n",
       "    </tr>\n",
       "    <tr>\n",
       "      <th>2019-04-01 09:34:00</th>\n",
       "      <td>190.760</td>\n",
       "      <td>190.60</td>\n",
       "      <td>190.760</td>\n",
       "      <td>190.70</td>\n",
       "      <td>1069.0</td>\n",
       "    </tr>\n",
       "  </tbody>\n",
       "</table>\n",
       "</div>"
      ],
      "text/plain": [
       "                        high     low     open   close  volume\n",
       "datetime                                                     \n",
       "2019-04-01 09:30:00  191.645  190.60  191.645  190.65  4320.0\n",
       "2019-04-01 09:31:00  190.980  190.64  190.700  190.98  3246.0\n",
       "2019-04-01 09:32:00  191.090  190.78  191.060  190.93  2253.0\n",
       "2019-04-01 09:33:00  191.010  190.76  190.980  190.83  2241.0\n",
       "2019-04-01 09:34:00  190.760  190.60  190.760  190.70  1069.0"
      ]
     },
     "execution_count": 5,
     "metadata": {},
     "output_type": "execute_result"
    }
   ],
   "source": [
    "iex_data.head()"
   ]
  },
  {
   "cell_type": "markdown",
   "metadata": {},
   "source": [
    "### 1.2) get dukascopy data"
   ]
  },
  {
   "cell_type": "code",
   "execution_count": 6,
   "metadata": {},
   "outputs": [],
   "source": [
    "dukas_data = pd.read_csv(dukas_path)\n",
    "\n",
    "# rename columns\n",
    "new_cols_map = {col: col.lower() for col in dukas_data}\n",
    "new_cols_map['Local time'] = \"datetime\"\n",
    "dukas_data.rename(columns=new_cols_map, inplace=True)\n",
    "\n",
    "# convert datetime type (string to datetime)\n",
    "dukas_data['datetime'] = dukas_data['datetime'].str.replace(r\"\\:00\\.000 GMT\\+0\\d00\",\"\")\n",
    "dukas_data['datetime'] = pd.to_datetime(dukas_data['datetime'], format='%d.%m.%Y %H:%M')\n",
    "\n",
    "dukas_data.set_index(\"datetime\", inplace=True)"
   ]
  },
  {
   "cell_type": "code",
   "execution_count": 7,
   "metadata": {},
   "outputs": [
    {
     "data": {
      "text/html": [
       "<div>\n",
       "<style scoped>\n",
       "    .dataframe tbody tr th:only-of-type {\n",
       "        vertical-align: middle;\n",
       "    }\n",
       "\n",
       "    .dataframe tbody tr th {\n",
       "        vertical-align: top;\n",
       "    }\n",
       "\n",
       "    .dataframe thead th {\n",
       "        text-align: right;\n",
       "    }\n",
       "</style>\n",
       "<table border=\"1\" class=\"dataframe\">\n",
       "  <thead>\n",
       "    <tr style=\"text-align: right;\">\n",
       "      <th></th>\n",
       "      <th>open</th>\n",
       "      <th>high</th>\n",
       "      <th>low</th>\n",
       "      <th>close</th>\n",
       "      <th>volume</th>\n",
       "    </tr>\n",
       "    <tr>\n",
       "      <th>datetime</th>\n",
       "      <th></th>\n",
       "      <th></th>\n",
       "      <th></th>\n",
       "      <th></th>\n",
       "      <th></th>\n",
       "    </tr>\n",
       "  </thead>\n",
       "  <tbody>\n",
       "    <tr>\n",
       "      <th>2017-01-26 00:00:00</th>\n",
       "      <td>121.864</td>\n",
       "      <td>121.864</td>\n",
       "      <td>121.864</td>\n",
       "      <td>121.864</td>\n",
       "      <td>0.0</td>\n",
       "    </tr>\n",
       "    <tr>\n",
       "      <th>2017-01-26 00:01:00</th>\n",
       "      <td>121.864</td>\n",
       "      <td>121.864</td>\n",
       "      <td>121.864</td>\n",
       "      <td>121.864</td>\n",
       "      <td>0.0</td>\n",
       "    </tr>\n",
       "    <tr>\n",
       "      <th>2017-01-26 00:02:00</th>\n",
       "      <td>121.864</td>\n",
       "      <td>121.864</td>\n",
       "      <td>121.864</td>\n",
       "      <td>121.864</td>\n",
       "      <td>0.0</td>\n",
       "    </tr>\n",
       "    <tr>\n",
       "      <th>2017-01-26 00:03:00</th>\n",
       "      <td>121.864</td>\n",
       "      <td>121.864</td>\n",
       "      <td>121.864</td>\n",
       "      <td>121.864</td>\n",
       "      <td>0.0</td>\n",
       "    </tr>\n",
       "    <tr>\n",
       "      <th>2017-01-26 00:04:00</th>\n",
       "      <td>121.864</td>\n",
       "      <td>121.864</td>\n",
       "      <td>121.864</td>\n",
       "      <td>121.864</td>\n",
       "      <td>0.0</td>\n",
       "    </tr>\n",
       "  </tbody>\n",
       "</table>\n",
       "</div>"
      ],
      "text/plain": [
       "                        open     high      low    close  volume\n",
       "datetime                                                       \n",
       "2017-01-26 00:00:00  121.864  121.864  121.864  121.864     0.0\n",
       "2017-01-26 00:01:00  121.864  121.864  121.864  121.864     0.0\n",
       "2017-01-26 00:02:00  121.864  121.864  121.864  121.864     0.0\n",
       "2017-01-26 00:03:00  121.864  121.864  121.864  121.864     0.0\n",
       "2017-01-26 00:04:00  121.864  121.864  121.864  121.864     0.0"
      ]
     },
     "execution_count": 7,
     "metadata": {},
     "output_type": "execute_result"
    }
   ],
   "source": [
    "dukas_data.head()"
   ]
  },
  {
   "cell_type": "markdown",
   "metadata": {},
   "source": [
    "## compare data sources"
   ]
  },
  {
   "cell_type": "markdown",
   "metadata": {},
   "source": [
    "since IEX data is shorter than dukascopy's data, <br/>\n",
    "we will compare each IEX data point to its corresponding data point in dukascopy data set. <br/>"
   ]
  },
  {
   "cell_type": "markdown",
   "metadata": {},
   "source": [
    "apply shift to dukascopy timestamps - so each trading day starts in 9:30 (instead of 16:30) and ends in 16:00 (instead of 23:00), <br/>\n",
    "just like the IEX dataset does."
   ]
  },
  {
   "cell_type": "code",
   "execution_count": 8,
   "metadata": {},
   "outputs": [],
   "source": [
    "dukas_data.index = dukas_data.index + pd.Timedelta(hours=-7)"
   ]
  },
  {
   "cell_type": "markdown",
   "metadata": {},
   "source": [
    "put datasets \"side by side\""
   ]
  },
  {
   "cell_type": "code",
   "execution_count": 9,
   "metadata": {},
   "outputs": [],
   "source": [
    "merged_data = pd.merge(iex_data,dukas_data, how='inner', left_index=True, right_index=True)"
   ]
  },
  {
   "cell_type": "code",
   "execution_count": 10,
   "metadata": {
    "scrolled": true
   },
   "outputs": [
    {
     "data": {
      "text/html": [
       "<div>\n",
       "<style scoped>\n",
       "    .dataframe tbody tr th:only-of-type {\n",
       "        vertical-align: middle;\n",
       "    }\n",
       "\n",
       "    .dataframe tbody tr th {\n",
       "        vertical-align: top;\n",
       "    }\n",
       "\n",
       "    .dataframe thead th {\n",
       "        text-align: right;\n",
       "    }\n",
       "</style>\n",
       "<table border=\"1\" class=\"dataframe\">\n",
       "  <thead>\n",
       "    <tr style=\"text-align: right;\">\n",
       "      <th></th>\n",
       "      <th>high_x</th>\n",
       "      <th>low_x</th>\n",
       "      <th>open_x</th>\n",
       "      <th>close_x</th>\n",
       "      <th>volume_x</th>\n",
       "      <th>open_y</th>\n",
       "      <th>high_y</th>\n",
       "      <th>low_y</th>\n",
       "      <th>close_y</th>\n",
       "      <th>volume_y</th>\n",
       "    </tr>\n",
       "    <tr>\n",
       "      <th>datetime</th>\n",
       "      <th></th>\n",
       "      <th></th>\n",
       "      <th></th>\n",
       "      <th></th>\n",
       "      <th></th>\n",
       "      <th></th>\n",
       "      <th></th>\n",
       "      <th></th>\n",
       "      <th></th>\n",
       "      <th></th>\n",
       "    </tr>\n",
       "  </thead>\n",
       "  <tbody>\n",
       "    <tr>\n",
       "      <th>2019-04-01 09:30:00</th>\n",
       "      <td>191.645</td>\n",
       "      <td>190.60</td>\n",
       "      <td>191.645</td>\n",
       "      <td>190.65</td>\n",
       "      <td>4320.0</td>\n",
       "      <td>191.548</td>\n",
       "      <td>191.618</td>\n",
       "      <td>190.607</td>\n",
       "      <td>190.607</td>\n",
       "      <td>706748.0087</td>\n",
       "    </tr>\n",
       "    <tr>\n",
       "      <th>2019-04-01 09:31:00</th>\n",
       "      <td>190.980</td>\n",
       "      <td>190.64</td>\n",
       "      <td>190.700</td>\n",
       "      <td>190.98</td>\n",
       "      <td>3246.0</td>\n",
       "      <td>190.607</td>\n",
       "      <td>191.008</td>\n",
       "      <td>190.548</td>\n",
       "      <td>190.968</td>\n",
       "      <td>623174.0117</td>\n",
       "    </tr>\n",
       "    <tr>\n",
       "      <th>2019-04-01 09:32:00</th>\n",
       "      <td>191.090</td>\n",
       "      <td>190.78</td>\n",
       "      <td>191.060</td>\n",
       "      <td>190.93</td>\n",
       "      <td>2253.0</td>\n",
       "      <td>190.968</td>\n",
       "      <td>191.170</td>\n",
       "      <td>190.748</td>\n",
       "      <td>190.857</td>\n",
       "      <td>854170.0244</td>\n",
       "    </tr>\n",
       "    <tr>\n",
       "      <th>2019-04-01 09:33:00</th>\n",
       "      <td>191.010</td>\n",
       "      <td>190.76</td>\n",
       "      <td>190.980</td>\n",
       "      <td>190.83</td>\n",
       "      <td>2241.0</td>\n",
       "      <td>190.888</td>\n",
       "      <td>191.028</td>\n",
       "      <td>190.727</td>\n",
       "      <td>190.747</td>\n",
       "      <td>729126.9898</td>\n",
       "    </tr>\n",
       "    <tr>\n",
       "      <th>2019-04-01 09:34:00</th>\n",
       "      <td>190.760</td>\n",
       "      <td>190.60</td>\n",
       "      <td>190.760</td>\n",
       "      <td>190.70</td>\n",
       "      <td>1069.0</td>\n",
       "      <td>190.747</td>\n",
       "      <td>190.753</td>\n",
       "      <td>190.528</td>\n",
       "      <td>190.721</td>\n",
       "      <td>992367.0292</td>\n",
       "    </tr>\n",
       "  </tbody>\n",
       "</table>\n",
       "</div>"
      ],
      "text/plain": [
       "                      high_x   low_x   open_x  close_x  volume_x   open_y  \\\n",
       "datetime                                                                    \n",
       "2019-04-01 09:30:00  191.645  190.60  191.645   190.65    4320.0  191.548   \n",
       "2019-04-01 09:31:00  190.980  190.64  190.700   190.98    3246.0  190.607   \n",
       "2019-04-01 09:32:00  191.090  190.78  191.060   190.93    2253.0  190.968   \n",
       "2019-04-01 09:33:00  191.010  190.76  190.980   190.83    2241.0  190.888   \n",
       "2019-04-01 09:34:00  190.760  190.60  190.760   190.70    1069.0  190.747   \n",
       "\n",
       "                      high_y    low_y  close_y     volume_y  \n",
       "datetime                                                     \n",
       "2019-04-01 09:30:00  191.618  190.607  190.607  706748.0087  \n",
       "2019-04-01 09:31:00  191.008  190.548  190.968  623174.0117  \n",
       "2019-04-01 09:32:00  191.170  190.748  190.857  854170.0244  \n",
       "2019-04-01 09:33:00  191.028  190.727  190.747  729126.9898  \n",
       "2019-04-01 09:34:00  190.753  190.528  190.721  992367.0292  "
      ]
     },
     "execution_count": 10,
     "metadata": {},
     "output_type": "execute_result"
    }
   ],
   "source": [
    "merged_data.head()"
   ]
  },
  {
   "cell_type": "code",
   "execution_count": 11,
   "metadata": {},
   "outputs": [],
   "source": [
    "merged_data['diff'] = merged_data['close_x'] - merged_data['close_y']"
   ]
  },
  {
   "cell_type": "code",
   "execution_count": 24,
   "metadata": {
    "scrolled": true
   },
   "outputs": [
    {
     "data": {
      "text/plain": [
       "<matplotlib.axes._subplots.AxesSubplot at 0x1f6026ae320>"
      ]
     },
     "execution_count": 24,
     "metadata": {},
     "output_type": "execute_result"
    },
    {
     "data": {
      "image/png": "[encoded data removed]",
      "text/plain": [
       "<Figure size 432x288 with 1 Axes>"
      ]
     },
     "metadata": {
      "needs_background": "light"
     },
     "output_type": "display_data"
    }
   ],
   "source": [
    "merged_data['diff'].plot()"
   ]
  },
  {
   "cell_type": "markdown",
   "metadata": {},
   "source": [
    "weird results"
   ]
  },
  {
   "cell_type": "markdown",
   "metadata": {},
   "source": [
    "what is the average difference?"
   ]
  },
  {
   "cell_type": "code",
   "execution_count": 13,
   "metadata": {},
   "outputs": [
    {
     "data": {
      "text/plain": [
       "0.2256552490496233"
      ]
     },
     "execution_count": 13,
     "metadata": {},
     "output_type": "execute_result"
    }
   ],
   "source": [
    "merged_data['diff'].abs().mean()"
   ]
  },
  {
   "cell_type": "markdown",
   "metadata": {},
   "source": [
    "how many big (more than 5$) outliers we have?"
   ]
  },
  {
   "cell_type": "code",
   "execution_count": 14,
   "metadata": {},
   "outputs": [
    {
     "data": {
      "text/plain": [
       "1145"
      ]
     },
     "execution_count": 14,
     "metadata": {},
     "output_type": "execute_result"
    }
   ],
   "source": [
    "merged_data[merged_data['diff'].abs()>5]['diff'].count()"
   ]
  },
  {
   "cell_type": "markdown",
   "metadata": {},
   "source": [
    "what is the average difference without those outliers?"
   ]
  },
  {
   "cell_type": "code",
   "execution_count": 15,
   "metadata": {},
   "outputs": [
    {
     "data": {
      "text/plain": [
       "0.024995899255755155"
      ]
     },
     "execution_count": 15,
     "metadata": {},
     "output_type": "execute_result"
    }
   ],
   "source": [
    "merged_data[merged_data['diff'].abs()<5]['diff'].mean()"
   ]
  },
  {
   "cell_type": "markdown",
   "metadata": {},
   "source": [
    "2.5 cent, much better"
   ]
  },
  {
   "cell_type": "markdown",
   "metadata": {},
   "source": [
    "lets see the difference distribution"
   ]
  },
  {
   "cell_type": "code",
   "execution_count": 16,
   "metadata": {
    "scrolled": true
   },
   "outputs": [
    {
     "data": {
      "text/plain": [
       "<matplotlib.axes._subplots.AxesSubplot at 0x1f600be9f28>"
      ]
     },
     "execution_count": 16,
     "metadata": {},
     "output_type": "execute_result"
    },
    {
     "data": {
      "image/png": "[encoded data removed]",
      "text/plain": [
       "<Figure size 432x288 with 1 Axes>"
      ]
     },
     "metadata": {
      "needs_background": "light"
     },
     "output_type": "display_data"
    }
   ],
   "source": [
    "merged_data[merged_data['diff'].abs()<5]['diff'].plot()"
   ]
  },
  {
   "cell_type": "markdown",
   "metadata": {},
   "source": [
    "lets have a closer look at the outliers - what are they? why they happen? do they have somthing in common?"
   ]
  },
  {
   "cell_type": "code",
   "execution_count": 17,
   "metadata": {},
   "outputs": [],
   "source": [
    "outliers = merged_data[merged_data['diff'].abs()>5]\n",
    "\n",
    "# focus on the things we campared - close prices\n",
    "outliers = outliers[['close_x', 'close_y', 'diff']]"
   ]
  },
  {
   "cell_type": "code",
   "execution_count": 18,
   "metadata": {},
   "outputs": [
    {
     "data": {
      "text/html": [
       "<div>\n",
       "<style scoped>\n",
       "    .dataframe tbody tr th:only-of-type {\n",
       "        vertical-align: middle;\n",
       "    }\n",
       "\n",
       "    .dataframe tbody tr th {\n",
       "        vertical-align: top;\n",
       "    }\n",
       "\n",
       "    .dataframe thead th {\n",
       "        text-align: right;\n",
       "    }\n",
       "</style>\n",
       "<table border=\"1\" class=\"dataframe\">\n",
       "  <thead>\n",
       "    <tr style=\"text-align: right;\">\n",
       "      <th></th>\n",
       "      <th>close_x</th>\n",
       "      <th>close_y</th>\n",
       "      <th>diff</th>\n",
       "    </tr>\n",
       "    <tr>\n",
       "      <th>datetime</th>\n",
       "      <th></th>\n",
       "      <th></th>\n",
       "      <th></th>\n",
       "    </tr>\n",
       "  </thead>\n",
       "  <tbody>\n",
       "    <tr>\n",
       "      <th>2020-03-09 09:30:00</th>\n",
       "      <td>265.270</td>\n",
       "      <td>273.748</td>\n",
       "      <td>-8.478</td>\n",
       "    </tr>\n",
       "    <tr>\n",
       "      <th>2020-03-09 09:31:00</th>\n",
       "      <td>267.100</td>\n",
       "      <td>273.598</td>\n",
       "      <td>-6.498</td>\n",
       "    </tr>\n",
       "    <tr>\n",
       "      <th>2020-03-09 09:32:00</th>\n",
       "      <td>267.780</td>\n",
       "      <td>273.728</td>\n",
       "      <td>-5.948</td>\n",
       "    </tr>\n",
       "    <tr>\n",
       "      <th>2020-03-09 09:33:00</th>\n",
       "      <td>267.445</td>\n",
       "      <td>275.158</td>\n",
       "      <td>-7.713</td>\n",
       "    </tr>\n",
       "    <tr>\n",
       "      <th>2020-03-09 09:34:00</th>\n",
       "      <td>267.450</td>\n",
       "      <td>274.527</td>\n",
       "      <td>-7.077</td>\n",
       "    </tr>\n",
       "    <tr>\n",
       "      <th>...</th>\n",
       "      <td>...</td>\n",
       "      <td>...</td>\n",
       "      <td>...</td>\n",
       "    </tr>\n",
       "    <tr>\n",
       "      <th>2020-03-26 15:39:00</th>\n",
       "      <td>251.350</td>\n",
       "      <td>257.778</td>\n",
       "      <td>-6.428</td>\n",
       "    </tr>\n",
       "    <tr>\n",
       "      <th>2020-03-26 15:40:00</th>\n",
       "      <td>252.130</td>\n",
       "      <td>257.778</td>\n",
       "      <td>-5.648</td>\n",
       "    </tr>\n",
       "    <tr>\n",
       "      <th>2020-03-26 15:41:00</th>\n",
       "      <td>252.400</td>\n",
       "      <td>257.778</td>\n",
       "      <td>-5.378</td>\n",
       "    </tr>\n",
       "    <tr>\n",
       "      <th>2020-03-26 15:45:00</th>\n",
       "      <td>252.000</td>\n",
       "      <td>257.778</td>\n",
       "      <td>-5.778</td>\n",
       "    </tr>\n",
       "    <tr>\n",
       "      <th>2020-03-26 15:49:00</th>\n",
       "      <td>252.710</td>\n",
       "      <td>257.778</td>\n",
       "      <td>-5.068</td>\n",
       "    </tr>\n",
       "  </tbody>\n",
       "</table>\n",
       "<p>1145 rows × 3 columns</p>\n",
       "</div>"
      ],
      "text/plain": [
       "                     close_x  close_y   diff\n",
       "datetime                                    \n",
       "2020-03-09 09:30:00  265.270  273.748 -8.478\n",
       "2020-03-09 09:31:00  267.100  273.598 -6.498\n",
       "2020-03-09 09:32:00  267.780  273.728 -5.948\n",
       "2020-03-09 09:33:00  267.445  275.158 -7.713\n",
       "2020-03-09 09:34:00  267.450  274.527 -7.077\n",
       "...                      ...      ...    ...\n",
       "2020-03-26 15:39:00  251.350  257.778 -6.428\n",
       "2020-03-26 15:40:00  252.130  257.778 -5.648\n",
       "2020-03-26 15:41:00  252.400  257.778 -5.378\n",
       "2020-03-26 15:45:00  252.000  257.778 -5.778\n",
       "2020-03-26 15:49:00  252.710  257.778 -5.068\n",
       "\n",
       "[1145 rows x 3 columns]"
      ]
     },
     "execution_count": 18,
     "metadata": {},
     "output_type": "execute_result"
    }
   ],
   "source": [
    "outliers"
   ]
  },
  {
   "cell_type": "code",
   "execution_count": 19,
   "metadata": {},
   "outputs": [
    {
     "data": {
      "text/html": [
       "<div>\n",
       "<style scoped>\n",
       "    .dataframe tbody tr th:only-of-type {\n",
       "        vertical-align: middle;\n",
       "    }\n",
       "\n",
       "    .dataframe tbody tr th {\n",
       "        vertical-align: top;\n",
       "    }\n",
       "\n",
       "    .dataframe thead th {\n",
       "        text-align: right;\n",
       "    }\n",
       "</style>\n",
       "<table border=\"1\" class=\"dataframe\">\n",
       "  <thead>\n",
       "    <tr style=\"text-align: right;\">\n",
       "      <th></th>\n",
       "      <th>close_x</th>\n",
       "      <th>close_y</th>\n",
       "      <th>diff</th>\n",
       "    </tr>\n",
       "  </thead>\n",
       "  <tbody>\n",
       "    <tr>\n",
       "      <th>count</th>\n",
       "      <td>1145.000000</td>\n",
       "      <td>1145.000000</td>\n",
       "      <td>1145.000000</td>\n",
       "    </tr>\n",
       "    <tr>\n",
       "      <th>mean</th>\n",
       "      <td>251.115996</td>\n",
       "      <td>251.584763</td>\n",
       "      <td>-0.468768</td>\n",
       "    </tr>\n",
       "    <tr>\n",
       "      <th>std</th>\n",
       "      <td>15.682341</td>\n",
       "      <td>17.057786</td>\n",
       "      <td>8.401455</td>\n",
       "    </tr>\n",
       "    <tr>\n",
       "      <th>min</th>\n",
       "      <td>212.890000</td>\n",
       "      <td>212.848000</td>\n",
       "      <td>-21.628000</td>\n",
       "    </tr>\n",
       "    <tr>\n",
       "      <th>25%</th>\n",
       "      <td>242.230000</td>\n",
       "      <td>241.827000</td>\n",
       "      <td>-6.858000</td>\n",
       "    </tr>\n",
       "    <tr>\n",
       "      <th>50%</th>\n",
       "      <td>251.940000</td>\n",
       "      <td>250.517000</td>\n",
       "      <td>-5.068000</td>\n",
       "    </tr>\n",
       "    <tr>\n",
       "      <th>75%</th>\n",
       "      <td>260.135000</td>\n",
       "      <td>261.518000</td>\n",
       "      <td>6.738000</td>\n",
       "    </tr>\n",
       "    <tr>\n",
       "      <th>max</th>\n",
       "      <td>281.630000</td>\n",
       "      <td>285.358000</td>\n",
       "      <td>14.233000</td>\n",
       "    </tr>\n",
       "  </tbody>\n",
       "</table>\n",
       "</div>"
      ],
      "text/plain": [
       "           close_x      close_y         diff\n",
       "count  1145.000000  1145.000000  1145.000000\n",
       "mean    251.115996   251.584763    -0.468768\n",
       "std      15.682341    17.057786     8.401455\n",
       "min     212.890000   212.848000   -21.628000\n",
       "25%     242.230000   241.827000    -6.858000\n",
       "50%     251.940000   250.517000    -5.068000\n",
       "75%     260.135000   261.518000     6.738000\n",
       "max     281.630000   285.358000    14.233000"
      ]
     },
     "execution_count": 19,
     "metadata": {},
     "output_type": "execute_result"
    }
   ],
   "source": [
    "outliers.describe()"
   ]
  },
  {
   "cell_type": "markdown",
   "metadata": {},
   "source": [
    "are the outliers grouped in specific days? or are they sparsed across the whole dataset?"
   ]
  },
  {
   "cell_type": "code",
   "execution_count": 20,
   "metadata": {},
   "outputs": [
    {
     "data": {
      "text/plain": [
       "array([datetime.date(2020, 3, 9), datetime.date(2020, 3, 10),\n",
       "       datetime.date(2020, 3, 12), datetime.date(2020, 3, 13),\n",
       "       datetime.date(2020, 3, 16), datetime.date(2020, 3, 17),\n",
       "       datetime.date(2020, 3, 18), datetime.date(2020, 3, 19),\n",
       "       datetime.date(2020, 3, 20), datetime.date(2020, 3, 23),\n",
       "       datetime.date(2020, 3, 24), datetime.date(2020, 3, 25),\n",
       "       datetime.date(2020, 3, 26)], dtype=object)"
      ]
     },
     "execution_count": 20,
     "metadata": {},
     "output_type": "execute_result"
    }
   ],
   "source": [
    "outliers_dates = np.unique(outliers.index.date)\n",
    "outliers_dates"
   ]
  },
  {
   "cell_type": "code",
   "execution_count": 21,
   "metadata": {},
   "outputs": [
    {
     "data": {
      "text/plain": [
       "13"
      ]
     },
     "execution_count": 21,
     "metadata": {},
     "output_type": "execute_result"
    }
   ],
   "source": [
    "len(np.unique(outliers_dates))"
   ]
  },
  {
   "cell_type": "markdown",
   "metadata": {},
   "source": [
    "all 1145 outlier data points are densed within 13 different days"
   ]
  },
  {
   "cell_type": "markdown",
   "metadata": {},
   "source": [
    "what if we drop those days from our merged dataset? <br/>\n",
    "how much of a difference will dropping those outlier days make?"
   ]
  },
  {
   "cell_type": "code",
   "execution_count": 22,
   "metadata": {},
   "outputs": [],
   "source": [
    "no_outliers = merged_data[np.isin(merged_data.index.date, outliers_dates, invert=True)]"
   ]
  },
  {
   "cell_type": "code",
   "execution_count": 23,
   "metadata": {},
   "outputs": [
    {
     "data": {
      "text/plain": [
       "<matplotlib.axes._subplots.AxesSubplot at 0x1f600be9828>"
      ]
     },
     "execution_count": 23,
     "metadata": {},
     "output_type": "execute_result"
    },
    {
     "data": {
      "image/png": "[encoded data removed]",
      "text/plain": [
       "<Figure size 432x288 with 1 Axes>"
      ]
     },
     "metadata": {
      "needs_background": "light"
     },
     "output_type": "display_data"
    }
   ],
   "source": [
    "no_outliers['diff'].plot()"
   ]
  },
  {
   "cell_type": "markdown",
   "metadata": {},
   "source": [
    "better, but not the best"
   ]
  }
 ],
 "metadata": {
  "kernelspec": {
   "display_name": "Python 3",
   "language": "python",
   "name": "python3"
  },
  "language_info": {
   "codemirror_mode": {
    "name": "ipython",
    "version": 3
   },
   "file_extension": ".py",
   "mimetype": "text/x-python",
   "name": "python",
   "nbconvert_exporter": "python",
   "pygments_lexer": "ipython3",
   "version": "3.7.1"
  }
 },
 "nbformat": 4,
 "nbformat_minor": 4
}
